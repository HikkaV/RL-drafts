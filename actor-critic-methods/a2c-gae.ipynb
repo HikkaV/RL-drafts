{
 "cells": [
  {
   "cell_type": "markdown",
   "metadata": {},
   "source": [
    "# Advantage actor-critic with GAE (A2C-GAE)"
   ]
  },
  {
   "cell_type": "code",
   "execution_count": 1,
   "metadata": {},
   "outputs": [],
   "source": [
    "import numpy as np\n",
    "import gym\n",
    "import matplotlib.pyplot as plt\n",
    "%matplotlib inline\n",
    "import tensorflow as tf\n",
    "from IPython.display import display\n"
   ]
  },
  {
   "cell_type": "code",
   "execution_count": 2,
   "metadata": {},
   "outputs": [],
   "source": [
    "import sys\n",
    "sys.path.insert(0,'../')\n",
    "from buffers.frame_buffer import FrameBuffer\n",
    "from preprocessings.atari_preprocessing import AtariPreprocess\n",
    "from paralleling.parallel import EnvBatch"
   ]
  },
  {
   "cell_type": "code",
   "execution_count": 3,
   "metadata": {},
   "outputs": [
    {
     "name": "stdout",
     "output_type": "stream",
     "text": [
      "Observation shape: (42, 42, 4)\n",
      "Num actions: 14\n",
      "Action names: ['NOOP', 'UP', 'RIGHT', 'LEFT', 'DOWN', 'DOWNRIGHT', 'DOWNLEFT', 'RIGHTFIRE', 'LEFTFIRE', 'DOWNFIRE', 'UPRIGHTFIRE', 'UPLEFTFIRE', 'DOWNRIGHTFIRE', 'DOWNLEFTFIRE']\n"
     ]
    }
   ],
   "source": [
    "def make_env():\n",
    "    env = gym.make(\"KungFuMasterDeterministic-v0\")\n",
    "    env = AtariPreprocess(env,img_size=(42,42,1), crop_func=lambda x: x[60:-30, 5:, :])\n",
    "    env = FrameBuffer(env, n_frames=4, dim_order='tensorflow')\n",
    "    return env\n",
    "\n",
    "env = make_env()\n",
    "obs_shape = env.observation_space.shape\n",
    "n_actions = env.action_space.n\n",
    "\n",
    "print(\"Observation shape:\", obs_shape)\n",
    "print(\"Num actions:\", n_actions)\n",
    "print(\"Action names:\", env.env.env.get_action_meanings())"
   ]
  },
  {
   "cell_type": "code",
   "execution_count": 4,
   "metadata": {},
   "outputs": [
    {
     "data": {
      "image/png": "[encoded data removed]",
      "text/plain": [
       "<Figure size 432x288 with 1 Axes>"
      ]
     },
     "metadata": {
      "needs_background": "light"
     },
     "output_type": "display_data"
    },
    {
     "data": {
      "image/png": "[encoded data removed]",
      "text/plain": [
       "<Figure size 432x288 with 1 Axes>"
      ]
     },
     "metadata": {
      "needs_background": "light"
     },
     "output_type": "display_data"
    }
   ],
   "source": [
    "s = env.reset()\n",
    "for _ in range(100):\n",
    "    s, _, _, _ = env.step(env.action_space.sample())\n",
    "\n",
    "plt.title('Game image')\n",
    "plt.imshow(env.render('rgb_array'))\n",
    "plt.show()\n",
    "\n",
    "plt.title('Agent observation (4-frame buffer)')\n",
    "plt.imshow(s.transpose([0, 2, 1]).reshape([42,-1]))\n",
    "plt.show()"
   ]
  },
  {
   "cell_type": "markdown",
   "metadata": {},
   "source": [
    "## Making a model"
   ]
  },
  {
   "cell_type": "code",
   "execution_count": 5,
   "metadata": {},
   "outputs": [],
   "source": [
    "from tensorflow.keras.layers import Conv2D, Input, Flatten, Dense, Reshape, LSTM\n",
    "from tensorflow.keras.models import Sequential, Model"
   ]
  },
  {
   "cell_type": "code",
   "execution_count": 6,
   "metadata": {},
   "outputs": [],
   "source": [
    "class A2C:\n",
    "    def __init__(self, name, state_shape, n_actions, \n",
    "                 gamma=0.99, alpha=0.001, beta=1, eta=1e-4, reuse=False):\n",
    "        \"\"\"A simple actor-critic agent\"\"\"\n",
    "        self.sess = tf.InteractiveSession()\n",
    "        self.gamma = gamma\n",
    "        self.alpha = alpha\n",
    "        self.beta = beta\n",
    "        self.n_actions = n_actions\n",
    "        self.eta = eta\n",
    "        with tf.variable_scope(name, reuse=reuse):\n",
    "            input = Input(shape=state_shape)\n",
    "            body = Sequential([\n",
    "            Conv2D(filters=128, kernel_size=(3,3),strides=(2,2), activation='elu'),\n",
    "            Conv2D(filters=64, kernel_size=(3,3),strides=(2,2), activation='elu'),\n",
    "            Conv2D(filters=32, kernel_size=(3,3),strides=(2,2), activation='elu'),\n",
    "            Conv2D(filters=16, kernel_size=(3,3),strides=(2,2), activation='elu'),\n",
    "            Dense(units=128,activation='elu')\n",
    "            ])(input)\n",
    "            logits = Dense(units=n_actions)(body)\n",
    "            values = Dense(units=1)(body)\n",
    "            self.model = Model(inputs=input, outputs=[logits, values])\n",
    "            print(self.model.summary())\n",
    "            self.state_t = tf.placeholder('float32', [None,] + list(state_shape))\n",
    "            self.agent_outputs = self.symbolic_step(self.state_t)\n",
    "            \n",
    "        self.states_ph, self.next_states_ph, self.actions_ph, self.rewards_ph, self.is_done_ph = self.init_placeholders(state_shape)\n",
    "        self.train_step, self.actor_loss, self.critic_loss, self.entropy = self.graph_flow()\n",
    "        self.sess.run(tf.global_variables_initializer())\n",
    "\n",
    "    def symbolic_step(self, state_t):\n",
    "        \"\"\"Takes agent's previous step and observation, returns next state and whatever it needs to learn (tf tensors)\"\"\"\n",
    "        \n",
    "        logits, state_values = self.model(state_t)\n",
    "        state_values = tf.squeeze(state_values,axis=1)\n",
    "        assert tf.is_numeric_tensor(logits) and logits.shape.ndims == 2, \\\n",
    "            \"Please return 2D TF tensor of logits [you got %s].\" % repr(logits)\n",
    "        assert tf.is_numeric_tensor(state_values) and state_values.shape.ndims == 1, \\\n",
    "            \"Please return 1D TF tensor of state values [you got %s].\" % repr(state_values)\n",
    "        return logits, state_values\n",
    "    \n",
    "    def step(self, state_t):\n",
    "        \"\"\"Same as symbolic step except it operates on numpy arrays\"\"\"\n",
    "        return self.sess.run(self.agent_outputs, {self.state_t: state_t})\n",
    "    \n",
    "    def sample_actions(self, agent_outputs):\n",
    "        \"\"\"pick actions given numeric agent outputs (np arrays)\"\"\"\n",
    "        logits, state_values = agent_outputs\n",
    "        policy = np.exp(logits) / np.sum(np.exp(logits), axis=-1, keepdims=True)\n",
    "        return np.array([np.random.choice(len(p), p=p) for p in policy])\n",
    "    \n",
    "    def init_placeholders(self,obs_shape):\n",
    "        states_ph = tf.placeholder('float32', [None,] + list(obs_shape))    \n",
    "        next_states_ph = tf.placeholder('float32', [None,] + list(obs_shape))\n",
    "        actions_ph = tf.placeholder('int32', (None,))\n",
    "        rewards_ph = tf.placeholder('float32', (None,))\n",
    "        is_done_ph = tf.placeholder('float32', (None,))\n",
    "        return states_ph, next_states_ph, actions_ph, rewards_ph, is_done_ph\n",
    "    \n",
    "    def graph_flow(self):\n",
    "        logits, state_values = self.symbolic_step(self.states_ph)\n",
    "        next_logits, next_state_values = self.symbolic_step(self.next_states_ph)\n",
    "        next_state_values = next_state_values * (1 - self.is_done_ph)\n",
    "        probs = tf.nn.softmax(logits, axis=-1)            \n",
    "        logprobs = tf.nn.log_softmax(logits, axis=-1)     \n",
    "        logp_actions = tf.reduce_sum(logprobs * tf.one_hot(self.actions_ph, self.n_actions), axis=-1) \n",
    "        advantage = self.rewards_ph+self.gamma*next_state_values-state_values\n",
    "        assert advantage.shape.ndims == 1, \"please compute advantage for each sample, vector of shape [n_envs,]\"\n",
    "        entropy =  - tf.reduce_sum(probs*logprobs,axis=1)\n",
    "        assert entropy.shape.ndims == 1, \"please compute pointwise entropy vector of shape [n_envs,] \"\n",
    "        self.target_state_values = self.rewards_ph+self.gamma*next_state_values\n",
    "        actor_loss = -tf.reduce_mean(logp_actions * tf.stop_gradient(advantage), axis=0) - self.alpha * tf.reduce_mean(entropy, axis=0)\n",
    "        critic_loss = tf.reduce_mean((state_values - tf.stop_gradient(target_state_values))**2, axis=0)\n",
    "        train_step = tf.train.AdamOptimizer(self.eta).minimize(actor_loss + self.beta*critic_loss)\n",
    "        return train_step, actor_loss, critic_loss, entropy\n",
    "    \n",
    "    def train(self,batch_states,batch_actions,batch_next_states,batch_rewards,batch_done):\n",
    "         feed_dict = {\n",
    "            self.states_ph: batch_states,\n",
    "            self.actions_ph: batch_actions,\n",
    "            self.next_states_ph: batch_next_states,\n",
    "            self.rewards_ph: batch_rewards,\n",
    "            self.is_done_ph: batch_done,\n",
    "        }\n",
    "         _, entropy, actor_loss, critic_loss = self.sess.run([self.train_step, self.entropy, self.actor_loss,self.critic_loss], feed_dict)\n",
    "         return entropy, actor_loss, critic_loss"
   ]
  },
  {
   "cell_type": "code",
   "execution_count": 7,
   "metadata": {},
   "outputs": [],
   "source": [
    "class GAE(A2C):\n",
    "    def __init__(self, name, state_shape, n_actions, \n",
    "                 gamma=0.99, alpha=0.001, beta=1, eta=1e-4, reuse=False):\n",
    "        self.gae_ph = tf.placeholder('float32', (None,))\n",
    "        A2C.__init__(self, name=name, state_shape=state_shape, n_actions=n_actions, \n",
    "         gamma=0.99, alpha=0.001, beta=1, eta=1e-4, reuse=False)\n",
    "\n",
    "\n",
    "    \n",
    "    def graph_flow(self):\n",
    "        logits, state_values = self.symbolic_step(self.states_ph)\n",
    "        probs = tf.nn.softmax(logits, axis=-1)            \n",
    "        logprobs = tf.nn.log_softmax(logits, axis=-1)     \n",
    "        logp_actions = tf.reduce_sum(logprobs * tf.one_hot(self.actions_ph, self.n_actions), axis=-1) \n",
    "        entropy =  - tf.reduce_sum(probs*logprobs,axis=1)\n",
    "        td_error = self.rewards_ph-state_values\n",
    "        assert entropy.shape.ndims == 1, \"please compute pointwise entropy vector of shape [n_envs,] \"\n",
    "        actor_loss = -tf.reduce_mean(logp_actions * self.gae_ph, axis=0) - self.alpha * tf.reduce_mean(entropy, axis=0)\n",
    "        critic_loss = tf.reduce_mean((td_error)**2, axis=0)\n",
    "        train_step = tf.train.AdamOptimizer(self.eta).minimize(actor_loss + self.beta*critic_loss)\n",
    "        return train_step, actor_loss, critic_loss, entropy\n",
    "        \n",
    "    def train(self,batch_states,batch_actions,batch_cum_rewards,batch_gae):\n",
    "         feed_dict = {\n",
    "            self.states_ph: batch_states,\n",
    "            self.actions_ph: batch_actions,\n",
    "            self.rewards_ph: batch_cum_rewards,\n",
    "            self.gae_ph : batch_gae\n",
    "        }\n",
    "         _, entropy, actor_loss, critic_loss = self.sess.run([self.train_step, self.entropy, self.actor_loss,self.critic_loss], feed_dict)\n",
    "         return entropy, actor_loss, critic_loss"
   ]
  },
  {
   "cell_type": "code",
   "execution_count": 8,
   "metadata": {},
   "outputs": [],
   "source": [
    "gamma = 0.99\n",
    "eta = 1e-3\n",
    "alpha = 0.01\n",
    "beta = 1"
   ]
  },
  {
   "cell_type": "code",
   "execution_count": 9,
   "metadata": {},
   "outputs": [
    {
     "name": "stdout",
     "output_type": "stream",
     "text": [
      "WARNING:tensorflow:From /home/volodymyr/envs/dqn_env/lib/python3.7/site-packages/tensorflow_core/python/ops/resource_variable_ops.py:1630: calling BaseResourceVariable.__init__ (from tensorflow.python.ops.resource_variable_ops) with constraint is deprecated and will be removed in a future version.\n",
      "Instructions for updating:\n",
      "If using Keras pass *_constraint arguments to layers.\n",
      "Model: \"model\"\n",
      "__________________________________________________________________________________________________\n",
      "Layer (type)                    Output Shape         Param #     Connected to                     \n",
      "==================================================================================================\n",
      "input_1 (InputLayer)            [(None, 42, 42, 4)]  0                                            \n",
      "__________________________________________________________________________________________________\n",
      "sequential (Sequential)         (None, 128)          175856      input_1[0][0]                    \n",
      "__________________________________________________________________________________________________\n",
      "dense (Dense)                   (None, 14)           1806        sequential[0][0]                 \n",
      "__________________________________________________________________________________________________\n",
      "dense_1 (Dense)                 (None, 1)            129         sequential[0][0]                 \n",
      "==================================================================================================\n",
      "Total params: 177,791\n",
      "Trainable params: 177,791\n",
      "Non-trainable params: 0\n",
      "__________________________________________________________________________________________________\n",
      "None\n",
      "WARNING:tensorflow:From /home/volodymyr/envs/dqn_env/lib/python3.7/site-packages/tensorflow_core/python/ops/math_grad.py:1375: where (from tensorflow.python.ops.array_ops) is deprecated and will be removed in a future version.\n",
      "Instructions for updating:\n",
      "Use tf.where in 2.0, which has the same broadcast rule as np.where\n"
     ]
    }
   ],
   "source": [
    "a2c_gae = GAE('agent',obs_shape,n_actions, gamma=gamma, eta=eta, alpha=alpha, beta=beta)"
   ]
  },
  {
   "cell_type": "markdown",
   "metadata": {},
   "source": [
    "## Some testing and asserts"
   ]
  },
  {
   "cell_type": "code",
   "execution_count": 10,
   "metadata": {},
   "outputs": [
    {
     "name": "stdout",
     "output_type": "stream",
     "text": [
      "action logits:\n",
      " [[-0.00392309  0.01202281 -0.0059936   0.00698002  0.00169702 -0.00516783\n",
      "  -0.01544906 -0.01677123 -0.0077235  -0.00664485 -0.00885134 -0.00287528\n",
      "  -0.00467027 -0.00065327]]\n",
      "state values:\n",
      " [-0.00053942]\n"
     ]
    }
   ],
   "source": [
    "state = [env.reset()]\n",
    "logits, value = a2c_gae.step(state)\n",
    "print(\"action logits:\\n\", logits)\n",
    "print(\"state values:\\n\", value)"
   ]
  },
  {
   "cell_type": "code",
   "execution_count": 11,
   "metadata": {},
   "outputs": [],
   "source": [
    "import scipy.signal\n",
    "\n",
    "def cumulative_discount(rewards, coef):\n",
    "    r = np.array(rewards)\n",
    "    assert r.ndim >= 1\n",
    "    return scipy.signal.lfilter([1], [1, float(-coef)], r[::-1], axis=0)[::-1]"
   ]
  },
  {
   "cell_type": "code",
   "execution_count": 12,
   "metadata": {},
   "outputs": [],
   "source": [
    "def evaluate(agent, env, n_games=1):\n",
    "    \"\"\"Plays an a game from start till done, returns per-game rewards \"\"\"\n",
    "\n",
    "    game_rewards = []\n",
    "    for _ in range(n_games):\n",
    "        state = env.reset()\n",
    "\n",
    "        total_reward = 0\n",
    "        while True:\n",
    "            if len(state.shape)<4:\n",
    "                state = [state]\n",
    "            action = agent.sample_actions(agent.step(state))[0]\n",
    "            state, reward, done, info = env.step(action)\n",
    "            total_reward += reward\n",
    "            if done:\n",
    "                break\n",
    "\n",
    "        game_rewards.append(total_reward)\n",
    "    return game_rewards"
   ]
  },
  {
   "cell_type": "code",
   "execution_count": 13,
   "metadata": {},
   "outputs": [
    {
     "data": {
      "text/plain": [
       "[600.0]"
      ]
     },
     "execution_count": 13,
     "metadata": {},
     "output_type": "execute_result"
    }
   ],
   "source": [
    "evaluate(a2c_gae,env)"
   ]
  },
  {
   "cell_type": "code",
   "execution_count": 14,
   "metadata": {},
   "outputs": [],
   "source": [
    "def compute_gae(agent, gamma, lambda_, batch_states, batch_rewards, batch_next_states, batch_done):\n",
    "    logits, state_values = agent.step(batch_states)\n",
    "    _, next_state_values = agent.step(batch_next_states)\n",
    "    next_state_values = next_state_values*(1-batch_done)\n",
    "    td_error = batch_rewards+gamma*next_state_values - state_values\n",
    "    return cumulative_discount(td_error, gamma*lambda_)"
   ]
  },
  {
   "cell_type": "code",
   "execution_count": 15,
   "metadata": {},
   "outputs": [],
   "source": [
    "sys.path.insert(0,'../')\n",
    "from paralleling.parallel import EnvBatch \n",
    "env_batch = EnvBatch(make_env,8)"
   ]
  },
  {
   "cell_type": "code",
   "execution_count": 16,
   "metadata": {},
   "outputs": [],
   "source": [
    "def generate_trajectories(agent, env, n_steps=1000, gamma=0.99, lambda_=0.5):\n",
    "    state = env.reset()\n",
    "    while True:\n",
    "        counter = 0 \n",
    "        batch_states = []\n",
    "        batch_rewards = []\n",
    "        batch_actions = []\n",
    "        batch_done = []\n",
    "        batch_next_states = []\n",
    "        done=False\n",
    "        while True:                \n",
    "            action = agent.sample_actions(agent.step(state))\n",
    "            next_state, reward, done, _ = env.step(action)\n",
    "            batch_rewards.append(reward)\n",
    "            batch_actions.append(action)\n",
    "            batch_states.append(state)\n",
    "            batch_next_states.append(next_state)\n",
    "            batch_done.append(done)\n",
    "            state = next_state\n",
    "            counter+=1\n",
    "            if done.all() or counter>=n_steps:\n",
    "                break\n",
    "        batch_rewards = (np.array(batch_rewards)*0.01).T\n",
    "        batch_cum_reward = np.hstack(cumulative_discount(batch_rewards,gamma))\n",
    "        batch_actions = np.hstack(np.array(batch_actions).T)\n",
    "        batch_states = np.vstack(np.array(batch_states).transpose(1,0,2,3,4))\n",
    "        batch_next_states = np.vstack(np.array(batch_next_states).transpose(1,0,2,3,4))\n",
    "        batch_rewards = np.hstack(batch_rewards)\n",
    "        batch_done = np.hstack(np.array(batch_done).T)\n",
    "\n",
    "        batch_gae = compute_gae(agent, gamma,lambda_, batch_states, batch_rewards, batch_next_states, batch_done)\n",
    "\n",
    "        yield batch_states, batch_actions, batch_cum_reward, batch_gae, batch_done\n"
   ]
  },
  {
   "cell_type": "code",
   "execution_count": 17,
   "metadata": {},
   "outputs": [
    {
     "data": {
      "text/plain": [
       "(array([[[[0.        , 0.        , 0.        , 0.        ],\n",
       "          [0.32235295, 0.        , 0.        , 0.        ],\n",
       "          [0.32235295, 0.        , 0.        , 0.        ],\n",
       "          ...,\n",
       "          [0.32235295, 0.        , 0.        , 0.        ],\n",
       "          [0.32235295, 0.        , 0.        , 0.        ],\n",
       "          [0.32235295, 0.        , 0.        , 0.        ]],\n",
       " \n",
       "         [[0.        , 0.        , 0.        , 0.        ],\n",
       "          [0.09294118, 0.        , 0.        , 0.        ],\n",
       "          [0.09294118, 0.        , 0.        , 0.        ],\n",
       "          ...,\n",
       "          [0.09294118, 0.        , 0.        , 0.        ],\n",
       "          [0.09294118, 0.        , 0.        , 0.        ],\n",
       "          [0.09294118, 0.        , 0.        , 0.        ]],\n",
       " \n",
       "         [[0.        , 0.        , 0.        , 0.        ],\n",
       "          [0.60313725, 0.        , 0.        , 0.        ],\n",
       "          [0.60313725, 0.        , 0.        , 0.        ],\n",
       "          ...,\n",
       "          [0.60313725, 0.        , 0.        , 0.        ],\n",
       "          [0.60313725, 0.        , 0.        , 0.        ],\n",
       "          [0.60313725, 0.        , 0.        , 0.        ]],\n",
       " \n",
       "         ...,\n",
       " \n",
       "         [[0.        , 0.        , 0.        , 0.        ],\n",
       "          [0.67176473, 0.        , 0.        , 0.        ],\n",
       "          [0.67176473, 0.        , 0.        , 0.        ],\n",
       "          ...,\n",
       "          [0.67176473, 0.        , 0.        , 0.        ],\n",
       "          [0.67176473, 0.        , 0.        , 0.        ],\n",
       "          [0.67176473, 0.        , 0.        , 0.        ]],\n",
       " \n",
       "         [[0.        , 0.        , 0.        , 0.        ],\n",
       "          [0.50941175, 0.        , 0.        , 0.        ],\n",
       "          [0.50941175, 0.        , 0.        , 0.        ],\n",
       "          ...,\n",
       "          [0.50941175, 0.        , 0.        , 0.        ],\n",
       "          [0.50941175, 0.        , 0.        , 0.        ],\n",
       "          [0.50941175, 0.        , 0.        , 0.        ]],\n",
       " \n",
       "         [[0.        , 0.        , 0.        , 0.        ],\n",
       "          [0.50941175, 0.        , 0.        , 0.        ],\n",
       "          [0.8423529 , 0.        , 0.        , 0.        ],\n",
       "          ...,\n",
       "          [0.50941175, 0.        , 0.        , 0.        ],\n",
       "          [0.50941175, 0.        , 0.        , 0.        ],\n",
       "          [0.50941175, 0.        , 0.        , 0.        ]]],\n",
       " \n",
       " \n",
       "        [[[0.        , 0.        , 0.        , 0.        ],\n",
       "          [0.32235295, 0.32235295, 0.        , 0.        ],\n",
       "          [0.32235295, 0.32235295, 0.        , 0.        ],\n",
       "          ...,\n",
       "          [0.32235295, 0.32235295, 0.        , 0.        ],\n",
       "          [0.32235295, 0.32235295, 0.        , 0.        ],\n",
       "          [0.32235295, 0.32235295, 0.        , 0.        ]],\n",
       " \n",
       "         [[0.        , 0.        , 0.        , 0.        ],\n",
       "          [0.09294118, 0.09294118, 0.        , 0.        ],\n",
       "          [0.09294118, 0.09294118, 0.        , 0.        ],\n",
       "          ...,\n",
       "          [0.09294118, 0.09294118, 0.        , 0.        ],\n",
       "          [0.09294118, 0.09294118, 0.        , 0.        ],\n",
       "          [0.09294118, 0.09294118, 0.        , 0.        ]],\n",
       " \n",
       "         [[0.        , 0.        , 0.        , 0.        ],\n",
       "          [0.60313725, 0.60313725, 0.        , 0.        ],\n",
       "          [0.60313725, 0.60313725, 0.        , 0.        ],\n",
       "          ...,\n",
       "          [0.60313725, 0.60313725, 0.        , 0.        ],\n",
       "          [0.60313725, 0.60313725, 0.        , 0.        ],\n",
       "          [0.60313725, 0.60313725, 0.        , 0.        ]],\n",
       " \n",
       "         ...,\n",
       " \n",
       "         [[0.        , 0.        , 0.        , 0.        ],\n",
       "          [0.67176473, 0.67176473, 0.        , 0.        ],\n",
       "          [0.67176473, 0.67176473, 0.        , 0.        ],\n",
       "          ...,\n",
       "          [0.67176473, 0.67176473, 0.        , 0.        ],\n",
       "          [0.67176473, 0.67176473, 0.        , 0.        ],\n",
       "          [0.67176473, 0.67176473, 0.        , 0.        ]],\n",
       " \n",
       "         [[0.        , 0.        , 0.        , 0.        ],\n",
       "          [0.50941175, 0.50941175, 0.        , 0.        ],\n",
       "          [0.50941175, 0.50941175, 0.        , 0.        ],\n",
       "          ...,\n",
       "          [0.50941175, 0.50941175, 0.        , 0.        ],\n",
       "          [0.50941175, 0.50941175, 0.        , 0.        ],\n",
       "          [0.50941175, 0.50941175, 0.        , 0.        ]],\n",
       " \n",
       "         [[0.        , 0.        , 0.        , 0.        ],\n",
       "          [0.50941175, 0.50941175, 0.        , 0.        ],\n",
       "          [0.8423529 , 0.8423529 , 0.        , 0.        ],\n",
       "          ...,\n",
       "          [0.50941175, 0.50941175, 0.        , 0.        ],\n",
       "          [0.50941175, 0.50941175, 0.        , 0.        ],\n",
       "          [0.50941175, 0.50941175, 0.        , 0.        ]]],\n",
       " \n",
       " \n",
       "        [[[0.        , 0.        , 0.        , 0.        ],\n",
       "          [0.32235295, 0.32235295, 0.32235295, 0.        ],\n",
       "          [0.32235295, 0.32235295, 0.32235295, 0.        ],\n",
       "          ...,\n",
       "          [0.32235295, 0.32235295, 0.32235295, 0.        ],\n",
       "          [0.32235295, 0.32235295, 0.32235295, 0.        ],\n",
       "          [0.32235295, 0.32235295, 0.32235295, 0.        ]],\n",
       " \n",
       "         [[0.        , 0.        , 0.        , 0.        ],\n",
       "          [0.09294118, 0.09294118, 0.09294118, 0.        ],\n",
       "          [0.09294118, 0.09294118, 0.09294118, 0.        ],\n",
       "          ...,\n",
       "          [0.09294118, 0.09294118, 0.09294118, 0.        ],\n",
       "          [0.09294118, 0.09294118, 0.09294118, 0.        ],\n",
       "          [0.09294118, 0.09294118, 0.09294118, 0.        ]],\n",
       " \n",
       "         [[0.        , 0.        , 0.        , 0.        ],\n",
       "          [0.60313725, 0.60313725, 0.60313725, 0.        ],\n",
       "          [0.60313725, 0.60313725, 0.60313725, 0.        ],\n",
       "          ...,\n",
       "          [0.60313725, 0.60313725, 0.60313725, 0.        ],\n",
       "          [0.60313725, 0.60313725, 0.60313725, 0.        ],\n",
       "          [0.60313725, 0.60313725, 0.60313725, 0.        ]],\n",
       " \n",
       "         ...,\n",
       " \n",
       "         [[0.        , 0.        , 0.        , 0.        ],\n",
       "          [0.67176473, 0.67176473, 0.67176473, 0.        ],\n",
       "          [0.67176473, 0.67176473, 0.67176473, 0.        ],\n",
       "          ...,\n",
       "          [0.67176473, 0.67176473, 0.67176473, 0.        ],\n",
       "          [0.67176473, 0.67176473, 0.67176473, 0.        ],\n",
       "          [0.67176473, 0.67176473, 0.67176473, 0.        ]],\n",
       " \n",
       "         [[0.        , 0.        , 0.        , 0.        ],\n",
       "          [0.50941175, 0.50941175, 0.50941175, 0.        ],\n",
       "          [0.50941175, 0.50941175, 0.50941175, 0.        ],\n",
       "          ...,\n",
       "          [0.50941175, 0.50941175, 0.50941175, 0.        ],\n",
       "          [0.50941175, 0.50941175, 0.50941175, 0.        ],\n",
       "          [0.50941175, 0.50941175, 0.50941175, 0.        ]],\n",
       " \n",
       "         [[0.        , 0.        , 0.        , 0.        ],\n",
       "          [0.50941175, 0.50941175, 0.50941175, 0.        ],\n",
       "          [0.8423529 , 0.8423529 , 0.8423529 , 0.        ],\n",
       "          ...,\n",
       "          [0.50941175, 0.50941175, 0.50941175, 0.        ],\n",
       "          [0.50941175, 0.50941175, 0.50941175, 0.        ],\n",
       "          [0.50941175, 0.50941175, 0.50941175, 0.        ]]],\n",
       " \n",
       " \n",
       "        ...,\n",
       " \n",
       " \n",
       "        [[[0.        , 0.        , 0.        , 0.        ],\n",
       "          [0.32235295, 0.        , 0.        , 0.        ],\n",
       "          [0.32235295, 0.        , 0.        , 0.        ],\n",
       "          ...,\n",
       "          [0.32235295, 0.        , 0.        , 0.        ],\n",
       "          [0.32235295, 0.        , 0.        , 0.        ],\n",
       "          [0.32235295, 0.        , 0.        , 0.        ]],\n",
       " \n",
       "         [[0.        , 0.        , 0.        , 0.        ],\n",
       "          [0.09294118, 0.        , 0.        , 0.        ],\n",
       "          [0.09294118, 0.        , 0.        , 0.        ],\n",
       "          ...,\n",
       "          [0.09294118, 0.        , 0.        , 0.        ],\n",
       "          [0.09294118, 0.        , 0.        , 0.        ],\n",
       "          [0.09294118, 0.        , 0.        , 0.        ]],\n",
       " \n",
       "         [[0.        , 0.        , 0.        , 0.        ],\n",
       "          [0.60313725, 0.        , 0.        , 0.        ],\n",
       "          [0.60313725, 0.        , 0.        , 0.        ],\n",
       "          ...,\n",
       "          [0.60313725, 0.        , 0.        , 0.        ],\n",
       "          [0.60313725, 0.        , 0.        , 0.        ],\n",
       "          [0.60313725, 0.        , 0.        , 0.        ]],\n",
       " \n",
       "         ...,\n",
       " \n",
       "         [[0.        , 0.        , 0.        , 0.        ],\n",
       "          [0.67176473, 0.        , 0.        , 0.        ],\n",
       "          [0.67176473, 0.        , 0.        , 0.        ],\n",
       "          ...,\n",
       "          [0.67176473, 0.        , 0.        , 0.        ],\n",
       "          [0.67176473, 0.        , 0.        , 0.        ],\n",
       "          [0.67176473, 0.        , 0.        , 0.        ]],\n",
       " \n",
       "         [[0.        , 0.        , 0.        , 0.        ],\n",
       "          [0.50941175, 0.        , 0.        , 0.        ],\n",
       "          [0.50941175, 0.        , 0.        , 0.        ],\n",
       "          ...,\n",
       "          [0.50941175, 0.        , 0.        , 0.        ],\n",
       "          [0.50941175, 0.        , 0.        , 0.        ],\n",
       "          [0.50941175, 0.        , 0.        , 0.        ]],\n",
       " \n",
       "         [[0.        , 0.        , 0.        , 0.        ],\n",
       "          [0.50941175, 0.        , 0.        , 0.        ],\n",
       "          [0.8423529 , 0.        , 0.        , 0.        ],\n",
       "          ...,\n",
       "          [0.50941175, 0.        , 0.        , 0.        ],\n",
       "          [0.50941175, 0.        , 0.        , 0.        ],\n",
       "          [0.50941175, 0.        , 0.        , 0.        ]]],\n",
       " \n",
       " \n",
       "        [[[0.        , 0.        , 0.        , 0.        ],\n",
       "          [0.32235295, 0.32235295, 0.        , 0.        ],\n",
       "          [0.32235295, 0.32235295, 0.        , 0.        ],\n",
       "          ...,\n",
       "          [0.32235295, 0.32235295, 0.        , 0.        ],\n",
       "          [0.32235295, 0.32235295, 0.        , 0.        ],\n",
       "          [0.32235295, 0.32235295, 0.        , 0.        ]],\n",
       " \n",
       "         [[0.        , 0.        , 0.        , 0.        ],\n",
       "          [0.09294118, 0.09294118, 0.        , 0.        ],\n",
       "          [0.09294118, 0.09294118, 0.        , 0.        ],\n",
       "          ...,\n",
       "          [0.09294118, 0.09294118, 0.        , 0.        ],\n",
       "          [0.09294118, 0.09294118, 0.        , 0.        ],\n",
       "          [0.09294118, 0.09294118, 0.        , 0.        ]],\n",
       " \n",
       "         [[0.        , 0.        , 0.        , 0.        ],\n",
       "          [0.60313725, 0.60313725, 0.        , 0.        ],\n",
       "          [0.60313725, 0.60313725, 0.        , 0.        ],\n",
       "          ...,\n",
       "          [0.60313725, 0.60313725, 0.        , 0.        ],\n",
       "          [0.60313725, 0.60313725, 0.        , 0.        ],\n",
       "          [0.60313725, 0.60313725, 0.        , 0.        ]],\n",
       " \n",
       "         ...,\n",
       " \n",
       "         [[0.        , 0.        , 0.        , 0.        ],\n",
       "          [0.67176473, 0.67176473, 0.        , 0.        ],\n",
       "          [0.67176473, 0.67176473, 0.        , 0.        ],\n",
       "          ...,\n",
       "          [0.67176473, 0.67176473, 0.        , 0.        ],\n",
       "          [0.67176473, 0.67176473, 0.        , 0.        ],\n",
       "          [0.67176473, 0.67176473, 0.        , 0.        ]],\n",
       " \n",
       "         [[0.        , 0.        , 0.        , 0.        ],\n",
       "          [0.50941175, 0.50941175, 0.        , 0.        ],\n",
       "          [0.50941175, 0.50941175, 0.        , 0.        ],\n",
       "          ...,\n",
       "          [0.50941175, 0.50941175, 0.        , 0.        ],\n",
       "          [0.50941175, 0.50941175, 0.        , 0.        ],\n",
       "          [0.50941175, 0.50941175, 0.        , 0.        ]],\n",
       " \n",
       "         [[0.        , 0.        , 0.        , 0.        ],\n",
       "          [0.50941175, 0.50941175, 0.        , 0.        ],\n",
       "          [0.8423529 , 0.8423529 , 0.        , 0.        ],\n",
       "          ...,\n",
       "          [0.50941175, 0.50941175, 0.        , 0.        ],\n",
       "          [0.50941175, 0.50941175, 0.        , 0.        ],\n",
       "          [0.50941175, 0.50941175, 0.        , 0.        ]]],\n",
       " \n",
       " \n",
       "        [[[0.        , 0.        , 0.        , 0.        ],\n",
       "          [0.32235295, 0.32235295, 0.32235295, 0.        ],\n",
       "          [0.32235295, 0.32235295, 0.32235295, 0.        ],\n",
       "          ...,\n",
       "          [0.32235295, 0.32235295, 0.32235295, 0.        ],\n",
       "          [0.32235295, 0.32235295, 0.32235295, 0.        ],\n",
       "          [0.32235295, 0.32235295, 0.32235295, 0.        ]],\n",
       " \n",
       "         [[0.        , 0.        , 0.        , 0.        ],\n",
       "          [0.09294118, 0.09294118, 0.09294118, 0.        ],\n",
       "          [0.09294118, 0.09294118, 0.09294118, 0.        ],\n",
       "          ...,\n",
       "          [0.09294118, 0.09294118, 0.09294118, 0.        ],\n",
       "          [0.09294118, 0.09294118, 0.09294118, 0.        ],\n",
       "          [0.09294118, 0.09294118, 0.09294118, 0.        ]],\n",
       " \n",
       "         [[0.        , 0.        , 0.        , 0.        ],\n",
       "          [0.60313725, 0.60313725, 0.60313725, 0.        ],\n",
       "          [0.60313725, 0.60313725, 0.60313725, 0.        ],\n",
       "          ...,\n",
       "          [0.60313725, 0.60313725, 0.60313725, 0.        ],\n",
       "          [0.60313725, 0.60313725, 0.60313725, 0.        ],\n",
       "          [0.60313725, 0.60313725, 0.60313725, 0.        ]],\n",
       " \n",
       "         ...,\n",
       " \n",
       "         [[0.        , 0.        , 0.        , 0.        ],\n",
       "          [0.67176473, 0.67176473, 0.67176473, 0.        ],\n",
       "          [0.67176473, 0.67176473, 0.67176473, 0.        ],\n",
       "          ...,\n",
       "          [0.67176473, 0.67176473, 0.67176473, 0.        ],\n",
       "          [0.67176473, 0.67176473, 0.67176473, 0.        ],\n",
       "          [0.67176473, 0.67176473, 0.67176473, 0.        ]],\n",
       " \n",
       "         [[0.        , 0.        , 0.        , 0.        ],\n",
       "          [0.50941175, 0.50941175, 0.50941175, 0.        ],\n",
       "          [0.50941175, 0.50941175, 0.50941175, 0.        ],\n",
       "          ...,\n",
       "          [0.50941175, 0.50941175, 0.50941175, 0.        ],\n",
       "          [0.50941175, 0.50941175, 0.50941175, 0.        ],\n",
       "          [0.50941175, 0.50941175, 0.50941175, 0.        ]],\n",
       " \n",
       "         [[0.        , 0.        , 0.        , 0.        ],\n",
       "          [0.50941175, 0.50941175, 0.50941175, 0.        ],\n",
       "          [0.8423529 , 0.8423529 , 0.8423529 , 0.        ],\n",
       "          ...,\n",
       "          [0.50941175, 0.50941175, 0.50941175, 0.        ],\n",
       "          [0.50941175, 0.50941175, 0.50941175, 0.        ],\n",
       "          [0.50941175, 0.50941175, 0.50941175, 0.        ]]]],\n",
       "       dtype=float32),\n",
       " array([13, 10,  6,  5,  0, 11,  6,  7,  5, 10,  0,  4,  9, 11,  4, 11, 13,\n",
       "         6,  1,  2, 10,  3,  6,  3]),\n",
       " array([0., 0., 0., 0., 0., 0., 0., 0., 0., 0., 0., 0., 0., 0., 0., 0., 0.,\n",
       "        0., 0., 0., 0., 0., 0., 0.]),\n",
       " array([-0.00174481, -0.00185395, -0.00361897, -0.00174481, -0.00185394,\n",
       "        -0.00361897, -0.0017448 , -0.00185393, -0.00361895, -0.00174476,\n",
       "        -0.00185385, -0.00361878, -0.00174443, -0.00185318, -0.00361743,\n",
       "        -0.0017417 , -0.00184766, -0.00360627, -0.00171914, -0.00180209,\n",
       "        -0.00351422, -0.00153319, -0.00142642, -0.00275529]),\n",
       " array([False, False, False, False, False, False, False, False, False,\n",
       "        False, False, False, False, False, False, False, False, False,\n",
       "        False, False, False, False, False, False]))"
      ]
     },
     "execution_count": 17,
     "metadata": {},
     "output_type": "execute_result"
    }
   ],
   "source": [
    "# testing\n",
    "next(generate_trajectories(a2c_gae, env_batch, n_steps=3))"
   ]
  },
  {
   "cell_type": "markdown",
   "metadata": {},
   "source": [
    "## Training"
   ]
  },
  {
   "cell_type": "code",
   "execution_count": 18,
   "metadata": {},
   "outputs": [],
   "source": [
    "import pandas as pd\n",
    "\n",
    "def ewma(x, span=100):\n",
    "    return pd.DataFrame({'x':np.asarray(x)}).x.ewm(span=span).mean().values\n",
    "\n",
    "\n",
    "\n",
    "rewards_history = []\n",
    "entropy_history = []\n",
    "actor_history = []\n",
    "critic_history = []"
   ]
  },
  {
   "cell_type": "code",
   "execution_count": 19,
   "metadata": {},
   "outputs": [],
   "source": [
    "gamma = 0.99\n",
    "lambda_ = 0.92\n",
    "n_steps = 5"
   ]
  },
  {
   "cell_type": "code",
   "execution_count": 20,
   "metadata": {},
   "outputs": [
    {
     "data": {
      "image/png": "[encoded data removed]",
      "text/plain": [
       "<Figure size 576x288 with 2 Axes>"
      ]
     },
     "metadata": {
      "needs_background": "light"
     },
     "output_type": "display_data"
    },
    {
     "data": {
      "image/png": "[encoded data removed]",
      "text/plain": [
       "<Figure size 432x288 with 1 Axes>"
      ]
     },
     "metadata": {
      "needs_background": "light"
     },
     "output_type": "display_data"
    },
    {
     "data": {
      "image/png": "[encoded data removed]",
      "text/plain": [
       "<Figure size 432x288 with 1 Axes>"
      ]
     },
     "metadata": {
      "needs_background": "light"
     },
     "output_type": "display_data"
    },
    {
     "name": "stderr",
     "output_type": "stream",
     "text": [
      "100%|██████████| 200000/200000 [3:22:09<00:00, 16.49it/s]\n"
     ]
    }
   ],
   "source": [
    "import tqdm\n",
    "from IPython.display import clear_output\n",
    "generator = generate_trajectories(a2c_gae,env_batch, gamma=gamma, lambda_=lambda_, n_steps=n_steps)\n",
    "with tqdm.trange(len(entropy_history), 200000) as t:\n",
    "    for i in t:\n",
    "        batch_states, batch_actions, batch_cum_reward, batch_gae, batch_done = next(generator)\n",
    "        entropy, actor_loss, critic_loss = a2c_gae.train(batch_states,batch_actions,batch_cum_reward, batch_gae)\n",
    "        entropy_history.append(np.mean(entropy))\n",
    "        actor_history.append(np.mean(actor_loss))\n",
    "        critic_history.append(np.mean(critic_loss))\n",
    "\n",
    "        if i % 500 == 0:\n",
    "            if i % 2500 == 0:\n",
    "                rewards_history.append(np.mean(evaluate(a2c_gae, env, n_games=3)))\n",
    "                if rewards_history[-1] >= 5000:\n",
    "                    print(\"Your agent has earned the yellow belt\")\n",
    "\n",
    "            clear_output(True)\n",
    "\n",
    "            plt.figure(figsize=[8, 4])\n",
    "            plt.subplot(1, 2, 1)\n",
    "            plt.plot(rewards_history, label='rewards')\n",
    "            plt.plot(ewma(np.array(rewards_history), span=10), marker='.', label='rewards ewma@10')\n",
    "            plt.title(\"Session rewards\")\n",
    "            plt.grid()\n",
    "            plt.legend()\n",
    "\n",
    "            plt.subplot(1, 2, 2)\n",
    "            plt.plot(entropy_history, label='entropy')\n",
    "            plt.plot(ewma(np.array(entropy_history), span=1000), label='entropy ewma@1000')\n",
    "            plt.title(\"Policy entropy\")\n",
    "            plt.grid()\n",
    "            plt.legend()\n",
    "            plt.show()\n",
    "            \n",
    "            plt.subplot(2, 1, 1)\n",
    "            plt.plot(actor_history, label='actor loss')\n",
    "            plt.plot(ewma(np.array(actor_history), span=1000), label='actor loss ewma@1000')\n",
    "            plt.title(\"Actor loss\")\n",
    "            plt.grid()\n",
    "            plt.legend()\n",
    "            plt.show()\n",
    "            \n",
    "            plt.subplot(2, 1, 2)\n",
    "            plt.plot(critic_history, label='critic loss')\n",
    "            plt.plot(ewma(np.array(critic_history), span=1000), label='critic loss ewma@1000')\n",
    "            plt.title(\"Critic loss\")\n",
    "            plt.grid()\n",
    "            plt.legend()\n",
    "            plt.show()\n",
    "            \n",
    "            \n",
    "            "
   ]
  },
  {
   "cell_type": "markdown",
   "metadata": {},
   "source": [
    "## Visualization"
   ]
  },
  {
   "cell_type": "code",
   "execution_count": 21,
   "metadata": {},
   "outputs": [],
   "source": [
    "def show_state(env, step=0, info=\"\"):\n",
    "    plt.figure(3)\n",
    "    plt.clf()\n",
    "    plt.imshow(env.render(mode='rgb_array'))\n",
    "    plt.title(\"Step: %d %s\" % (step, info))\n",
    "    plt.axis('off')\n",
    "\n",
    "    clear_output(wait=True)\n",
    "    display(plt.gcf())"
   ]
  },
  {
   "cell_type": "code",
   "execution_count": 23,
   "metadata": {},
   "outputs": [
    {
     "name": "stdout",
     "output_type": "stream",
     "text": [
      "Sum of rewards : 15800.0\n"
     ]
    },
    {
     "data": {
      "image/png": "[encoded data removed]",
      "text/plain": [
       "<Figure size 432x288 with 1 Axes>"
      ]
     },
     "metadata": {
      "needs_background": "light"
     },
     "output_type": "display_data"
    }
   ],
   "source": [
    "env = make_env()\n",
    "steps = 10000\n",
    "s = env.reset()\n",
    "rewards = 0\n",
    "last_info = None\n",
    "for t in range(steps):\n",
    "    show_state(env,t)\n",
    "    env.render()\n",
    "    a = a2c_gae.sample_actions(a2c_gae.step([s]))[0]\n",
    "    next_s, r, done, info = env.step(a)\n",
    "    rewards+=r\n",
    "    s = next_s\n",
    "    if done:\n",
    "        print(\"Episode finished after {} timesteps\".format(t+1))\n",
    "        break\n",
    "env.close()\n",
    "clear_output(wait=True)\n",
    "print(\"Sum of rewards : {}\".format(rewards))"
   ]
  },
  {
   "cell_type": "code",
   "execution_count": null,
   "metadata": {},
   "outputs": [],
   "source": []
  },
  {
   "cell_type": "code",
   "execution_count": null,
   "metadata": {},
   "outputs": [],
   "source": []
  }
 ],
 "metadata": {
  "kernelspec": {
   "display_name": "Python 3",
   "language": "python",
   "name": "python3"
  },
  "language_info": {
   "codemirror_mode": {
    "name": "ipython",
    "version": 3
   },
   "file_extension": ".py",
   "mimetype": "text/x-python",
   "name": "python",
   "nbconvert_exporter": "python",
   "pygments_lexer": "ipython3",
   "version": "3.7.5"
  }
 },
 "nbformat": 4,
 "nbformat_minor": 4
}

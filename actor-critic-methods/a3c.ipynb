{
 "cells": [
  {
   "cell_type": "markdown",
   "metadata": {},
   "source": [
    "# A3C"
   ]
  },
  {
   "cell_type": "code",
   "execution_count": 1,
   "metadata": {},
   "outputs": [],
   "source": [
    "import gym\n",
    "import sys\n",
    "sys.path.insert(0,'../')\n",
    "from preprocessings.atari_preprocessing import AtariPreprocess\n",
    "import matplotlib.pyplot as plt\n",
    "from paralleling.parallel import EnvBatch\n",
    "from buffers.frame_buffer import FrameBuffer\n",
    "import pandas as pd"
   ]
  },
  {
   "cell_type": "code",
   "execution_count": 2,
   "metadata": {},
   "outputs": [],
   "source": [
    "def make_env():\n",
    "    env = gym.make(\"KungFuMasterDeterministic-v0\")\n",
    "    env = AtariPreprocess(env,img_size=(42,42,1), crop_func=lambda x: x[60:-30, 5:, :])\n",
    "    env = FrameBuffer(env, n_frames=4, dim_order='tensorflow')\n",
    "    return env\n"
   ]
  },
  {
   "cell_type": "code",
   "execution_count": 3,
   "metadata": {},
   "outputs": [],
   "source": [
    "env = make_env()\n",
    "observation_shape = env.observation_space.shape\n",
    "n_actions = env.action_space.n"
   ]
  },
  {
   "cell_type": "code",
   "execution_count": 4,
   "metadata": {},
   "outputs": [
    {
     "data": {
      "image/png": "[encoded data removed]",
      "text/plain": [
       "<Figure size 432x288 with 1 Axes>"
      ]
     },
     "metadata": {
      "needs_background": "light"
     },
     "output_type": "display_data"
    },
    {
     "data": {
      "image/png": "[encoded data removed]",
      "text/plain": [
       "<Figure size 432x288 with 1 Axes>"
      ]
     },
     "metadata": {
      "needs_background": "light"
     },
     "output_type": "display_data"
    }
   ],
   "source": [
    "s = env.reset()\n",
    "for _ in range(100):\n",
    "    s, _, _, _ = env.step(env.action_space.sample())\n",
    "\n",
    "plt.title('Game image')\n",
    "plt.imshow(env.render('rgb_array'))\n",
    "plt.show()\n",
    "\n",
    "plt.title('Agent observation (4-frame buffer)')\n",
    "plt.imshow(s.transpose([0, 2, 1]).reshape([42,-1]))\n",
    "plt.show()"
   ]
  },
  {
   "cell_type": "markdown",
   "metadata": {},
   "source": [
    "# Model training"
   ]
  },
  {
   "cell_type": "code",
   "execution_count": 5,
   "metadata": {},
   "outputs": [],
   "source": [
    "import multiprocessing\n",
    "import threading\n",
    "import tensorflow as tf\n",
    "from IPython.display import display\n",
    "import numpy as np\n",
    "from tensorflow.keras.layers import Conv2D, Input, Flatten, Dense\n",
    "from tensorflow.keras.models import Sequential, Model"
   ]
  },
  {
   "cell_type": "code",
   "execution_count": 6,
   "metadata": {},
   "outputs": [],
   "source": [
    "def evaluate(agent, env, n_games=1):\n",
    "    \"\"\"Plays an a game from start till done, returns per-game rewards \"\"\"\n",
    "\n",
    "    game_rewards = []\n",
    "    for _ in range(n_games):\n",
    "        state = env.reset()\n",
    "\n",
    "        total_reward = 0\n",
    "        while True:\n",
    "            action = agent.sample_actions(agent.step([state]))[0]\n",
    "            state, reward, done, info = env.step(action)\n",
    "            total_reward += reward\n",
    "            if done:\n",
    "                break\n",
    "\n",
    "        game_rewards.append(total_reward)\n",
    "    return game_rewards"
   ]
  },
  {
   "cell_type": "code",
   "execution_count": 7,
   "metadata": {},
   "outputs": [],
   "source": [
    "def update_target_graph(from_scope,to_scope):\n",
    "    from_vars = tf.get_collection(tf.GraphKeys.TRAINABLE_VARIABLES, from_scope)\n",
    "    to_vars = tf.get_collection(tf.GraphKeys.TRAINABLE_VARIABLES, to_scope)\n",
    "\n",
    "    op_holder = []\n",
    "    for from_var,to_var in zip(from_vars,to_vars):\n",
    "        op_holder.append(to_var.assign(from_var))\n",
    "    return op_holder"
   ]
  },
  {
   "cell_type": "code",
   "execution_count": 8,
   "metadata": {},
   "outputs": [],
   "source": [
    "def ewma(x, span=100):\n",
    "    return pd.DataFrame({'x':np.asarray(x)}).x.ewm(span=span).mean().values\n"
   ]
  },
  {
   "cell_type": "code",
   "execution_count": 9,
   "metadata": {},
   "outputs": [],
   "source": [
    "class A2C:\n",
    "    def __init__(self, name, state_shape, n_actions, trainer, sess,\n",
    "                 gamma=0.99, alpha=0.001, beta=1, reuse=False):\n",
    "        \"\"\"A simple actor-critic agent\"\"\"\n",
    "        self.trainer = trainer\n",
    "        self.gamma = gamma\n",
    "        self.alpha = alpha\n",
    "        self.beta = beta\n",
    "        self.n_actions = n_actions\n",
    "        self.sess = sess\n",
    "        self.eta = eta\n",
    "        self.name = name\n",
    "        with tf.variable_scope(self.name, reuse=reuse):\n",
    "            input = Input(shape=state_shape)\n",
    "            body = Sequential([\n",
    "            Conv2D(filters=32, kernel_size=(3,3),strides=(2,2), activation='elu'),\n",
    "            Conv2D(filters=32, kernel_size=(3,3),strides=(2,2), activation='elu'),\n",
    "            Conv2D(filters=32, kernel_size=(3,3),strides=(2,2), activation='elu'),\n",
    "            Flatten(),\n",
    "            Dense(units=128,activation='elu')\n",
    "            ])(input)\n",
    "            logits = Dense(units=n_actions)(body)\n",
    "            values = Dense(units=1)(body)\n",
    "            self.model = Model(inputs=input, outputs=[logits, values])\n",
    "            self.state_t = tf.placeholder('float32', [None,] + list(state_shape))\n",
    "            self.agent_outputs = self.symbolic_step(self.state_t)\n",
    "            \n",
    "        self.states_ph, self.next_states_ph, self.actions_ph, self.rewards_ph, self.is_done_ph = self.init_placeholders(state_shape)\n",
    "        self.train_step, self.actor_loss, self.critic_loss, self.entropy = self.graph_flow()\n",
    "        \n",
    "\n",
    "    def symbolic_step(self, state_t):\n",
    "        \"\"\"Takes agent's previous step and observation, returns next state and whatever it needs to learn (tf tensors)\"\"\"\n",
    "        \n",
    "        logits, state_values = self.model(state_t)\n",
    "        state_values = tf.squeeze(state_values,axis=1)\n",
    "        assert tf.is_numeric_tensor(logits) and logits.shape.ndims == 2, \\\n",
    "            \"Please return 2D TF tensor of logits [you got %s].\" % repr(logits)\n",
    "        assert tf.is_numeric_tensor(state_values) and state_values.shape.ndims == 1, \\\n",
    "            \"Please return 1D TF tensor of state values [you got %s].\" % repr(state_values)\n",
    "        return logits, state_values\n",
    "    \n",
    "    def step(self, state_t):\n",
    "        \"\"\"Same as symbolic step except it operates on numpy arrays\"\"\"\n",
    "        return self.sess.run(self.agent_outputs, {self.state_t: state_t})\n",
    "    \n",
    "    def sample_actions(self, agent_outputs):\n",
    "        \"\"\"pick actions given numeric agent outputs (np arrays)\"\"\"\n",
    "        logits, state_values = agent_outputs\n",
    "        policy = np.exp(logits) / np.sum(np.exp(logits), axis=-1, keepdims=True)\n",
    "        return np.array([np.random.choice(len(p), p=p) for p in policy])\n",
    "    \n",
    "    def init_placeholders(self,obs_shape):\n",
    "        states_ph = tf.placeholder('float32', [None,] + list(obs_shape))    \n",
    "        next_states_ph = tf.placeholder('float32', [None,] + list(obs_shape))\n",
    "        actions_ph = tf.placeholder('int32', (None,))\n",
    "        rewards_ph = tf.placeholder('float32', (None,))\n",
    "        is_done_ph = tf.placeholder('float32', (None,))\n",
    "        return states_ph, next_states_ph, actions_ph, rewards_ph, is_done_ph\n",
    "    \n",
    "    def graph_flow(self):\n",
    "        logits, state_values = self.symbolic_step(self.states_ph)\n",
    "        next_logits, next_state_values = self.symbolic_step(self.next_states_ph)\n",
    "        next_state_values = next_state_values * (1 - self.is_done_ph)\n",
    "        probs = tf.nn.softmax(logits, axis=-1)            \n",
    "        logprobs = tf.nn.log_softmax(logits, axis=-1)     \n",
    "        logp_actions = tf.reduce_sum(logprobs * tf.one_hot(self.actions_ph, self.n_actions), axis=-1) \n",
    "        advantage = self.rewards_ph+self.gamma*next_state_values-state_values\n",
    "        assert advantage.shape.ndims == 1, \"please compute advantage for each sample, vector of shape [n_envs,]\"\n",
    "        entropy =  - tf.reduce_sum(probs*logprobs,axis=1)\n",
    "        assert entropy.shape.ndims == 1, \"please compute pointwise entropy vector of shape [n_envs,] \"\n",
    "        target_state_values = self.rewards_ph+self.gamma*next_state_values\n",
    "        actor_loss = -tf.reduce_mean(logp_actions * tf.stop_gradient(advantage), axis=0) - self.alpha * tf.reduce_mean(entropy, axis=0)\n",
    "        critic_loss = tf.reduce_mean((state_values - tf.stop_gradient(target_state_values))**2, axis=0)\n",
    "        loss = actor_loss + self.beta*critic_loss\n",
    "        \n",
    "        local_vars = tf.get_collection(tf.GraphKeys.TRAINABLE_VARIABLES, self.name)\n",
    "        gradients = tf.gradients(loss,local_vars)\n",
    "\n",
    "        global_vars = tf.get_collection(tf.GraphKeys.TRAINABLE_VARIABLES, 'global')\n",
    "        apply_grads = self.trainer.apply_gradients(zip(gradients,global_vars))\n",
    "        \n",
    "        return apply_grads, actor_loss, critic_loss, entropy\n",
    "    \n",
    "    def train(self,batch_states,batch_actions,batch_next_states,batch_rewards,batch_done):\n",
    "         feed_dict = {\n",
    "            self.states_ph: batch_states,\n",
    "            self.actions_ph: batch_actions,\n",
    "            self.next_states_ph: batch_next_states,\n",
    "            self.rewards_ph: batch_rewards,\n",
    "            self.is_done_ph: batch_done,\n",
    "        }\n",
    "         _, entropy, actor_loss, critic_loss = self.sess.run([self.train_step, self.entropy, self.actor_loss,self.critic_loss], feed_dict)\n",
    "         return entropy, actor_loss, critic_loss"
   ]
  },
  {
   "cell_type": "code",
   "execution_count": 10,
   "metadata": {},
   "outputs": [],
   "source": [
    "class Worker:\n",
    "    def __init__(self, train_env, test_env, name, trainer,sess, state_shape, n_actions,\n",
    "                gamma=0.99, alpha=0.001, beta=1):\n",
    "        self.train_env = train_env\n",
    "        self.test_env = test_env\n",
    "        self.name = 'worker_'+str(name)\n",
    "        self.local_network = A2C(self.name, state_shape, n_actions, trainer,sess,\n",
    "                 gamma=gamma, alpha=alpha, beta=beta)\n",
    "        self.update_graph = update_target_graph('global',self.name)\n",
    "        self.summary_writer = tf.summary.FileWriter(\"train_\"+str(name))\n",
    "\n",
    "        \n",
    "    def train(self, num_steps=100000):\n",
    "        entropy_history = []\n",
    "        actor_history = []\n",
    "        critic_history = []\n",
    "        rewards_history = []\n",
    "        batch_states = self.train_env.reset()\n",
    "        counter = 0\n",
    "        with sess.as_default() and sess.graph.as_default():\n",
    "            for step in range(num_steps):\n",
    "                agent_outputs = self.local_network.step(batch_states)\n",
    "                batch_actions = self.local_network.sample_actions(agent_outputs)\n",
    "                batch_next_states, batch_rewards, batch_done, _ = self.train_env.step(batch_actions)\n",
    "                batch_rewards *= 0.01\n",
    "                entropy, actor_loss, critic_loss = self.local_network.train(batch_states,batch_actions,batch_next_states,batch_rewards,batch_done)\n",
    "\n",
    "                batch_states = batch_next_states\n",
    "                \n",
    "                if step % 500 == 0:\n",
    "                    reward = np.mean(evaluate(self.local_network, self.test_env, n_games=3))\n",
    "                    \n",
    "                    summary = tf.Summary()\n",
    "                    summary.value.add(tag='Perf/Reward', simple_value=float(reward))\n",
    "                    summary.value.add(tag='Losses/Actor Loss', simple_value=float(np.mean(actor_loss)))\n",
    "                    summary.value.add(tag='Losses/Critic Loss', simple_value=float(np.mean(critic_loss)))\n",
    "                    summary.value.add(tag='Losses/Entropy', simple_value=float(np.mean(entropy)))\n",
    "                    self.summary_writer.add_summary(summary, counter)\n",
    "                    counter+=1\n",
    "                sess.run(self.update_graph)\n",
    "\n"
   ]
  },
  {
   "cell_type": "code",
   "execution_count": 11,
   "metadata": {},
   "outputs": [],
   "source": [
    "eta = 1e-4\n",
    "num_steps = 10000\n",
    "gamma=0.99\n",
    "alpha = 0.01\n",
    "beta = 1"
   ]
  },
  {
   "cell_type": "code",
   "execution_count": 12,
   "metadata": {},
   "outputs": [
    {
     "name": "stdout",
     "output_type": "stream",
     "text": [
      "WARNING:tensorflow:From /home/volodymyr/envs/dqn_env/lib/python3.7/site-packages/tensorflow_core/python/ops/resource_variable_ops.py:1630: calling BaseResourceVariable.__init__ (from tensorflow.python.ops.resource_variable_ops) with constraint is deprecated and will be removed in a future version.\n",
      "Instructions for updating:\n",
      "If using Keras pass *_constraint arguments to layers.\n",
      "WARNING:tensorflow:From /home/volodymyr/envs/dqn_env/lib/python3.7/site-packages/tensorflow_core/python/ops/math_grad.py:1375: where (from tensorflow.python.ops.array_ops) is deprecated and will be removed in a future version.\n",
      "Instructions for updating:\n",
      "Use tf.where in 2.0, which has the same broadcast rule as np.where\n"
     ]
    }
   ],
   "source": [
    "tf.reset_default_graph()\n",
    "import time\n",
    "with tf.Session() as sess:\n",
    "    coord = tf.train.Coordinator()\n",
    "    with tf.device(\"/cpu:0\"): \n",
    "        trainer = tf.train.AdamOptimizer(learning_rate=eta)\n",
    "        master_network = A2C('global',observation_shape,n_actions, trainer = trainer, sess=sess,\n",
    "                            gamma=gamma, alpha=alpha, beta=beta)\n",
    "        num_workers = multiprocessing.cpu_count() \n",
    "        workers = []\n",
    "        for i in range(num_workers):\n",
    "            workers.append(Worker(EnvBatch(make_env,10), make_env(), i, trainer, sess, observation_shape, n_actions,\n",
    "                    gamma=gamma, alpha=alpha, beta=beta))\n",
    "        saver = tf.train.Saver(max_to_keep=5)\n",
    "\n",
    "    sess.run(tf.global_variables_initializer())\n",
    "        \n",
    "    worker_threads = []\n",
    "    for worker in workers:\n",
    "        worker_work = lambda: worker.train(num_steps)\n",
    "        t = threading.Thread(target=(worker_work))\n",
    "        t.start()\n",
    "        time.sleep(0.5)\n",
    "        worker_threads.append(t)\n",
    "    coord.join(worker_threads)\n",
    "    saver.save(sess, 'a3c_model')\n",
    "    "
   ]
  },
  {
   "cell_type": "markdown",
   "metadata": {},
   "source": [
    "# Testing agent performance"
   ]
  },
  {
   "cell_type": "code",
   "execution_count": 13,
   "metadata": {},
   "outputs": [],
   "source": [
    "from IPython.display import clear_output\n"
   ]
  },
  {
   "cell_type": "code",
   "execution_count": 14,
   "metadata": {},
   "outputs": [],
   "source": [
    "def show_state(env, step=0, info=\"\"):\n",
    "    plt.figure(3)\n",
    "    plt.clf()\n",
    "    plt.imshow(env.render(mode='rgb_array'))\n",
    "    plt.title(\"Step: %d %s\" % (step, info))\n",
    "    plt.axis('off')\n",
    "\n",
    "    clear_output(wait=True)\n",
    "    display(plt.gcf())"
   ]
  },
  {
   "cell_type": "code",
   "execution_count": 22,
   "metadata": {},
   "outputs": [],
   "source": [
    "worker = workers[10]\n",
    "best_network = worker.local_network"
   ]
  },
  {
   "cell_type": "code",
   "execution_count": 23,
   "metadata": {},
   "outputs": [
    {
     "name": "stdout",
     "output_type": "stream",
     "text": [
      "Sum of rewards : 36000.0\n"
     ]
    },
    {
     "data": {
      "image/png": "[encoded data removed]",
      "text/plain": [
       "<Figure size 432x288 with 1 Axes>"
      ]
     },
     "metadata": {
      "needs_background": "light"
     },
     "output_type": "display_data"
    }
   ],
   "source": [
    "env = make_env()\n",
    "steps = 10000\n",
    "s = env.reset()\n",
    "rewards = 0\n",
    "last_info = None\n",
    "with tf.Session() as sess:\n",
    "    saver.restore(sess,'a3c_model')\n",
    "    best_network.sess = sess\n",
    "    for t in range(steps):\n",
    "        show_state(env,t)\n",
    "        env.render()\n",
    "        a = best_network.sample_actions(best_network.step([s]))[0]\n",
    "        next_s, r, done, info = env.step(a)\n",
    "        rewards+=r\n",
    "        s = next_s\n",
    "        if done:\n",
    "            print(\"Episode finished after {} timesteps\".format(t+1))\n",
    "            break\n",
    "env.close()\n",
    "clear_output(wait=True)\n",
    "print(\"Sum of rewards : {}\".format(rewards))"
   ]
  },
  {
   "cell_type": "code",
   "execution_count": 31,
   "metadata": {},
   "outputs": [
    {
     "name": "stdout",
     "output_type": "stream",
     "text": [
      "INFO:tensorflow:Restoring parameters from a3c_model\n"
     ]
    }
   ],
   "source": [
    "with tf.Session() as sess:\n",
    "    saver.restore(sess,'a3c_model')\n",
    "    master_network.sess = sess\n",
    "    reward = np.mean(evaluate(master_network, env, n_games=3))\n"
   ]
  },
  {
   "cell_type": "code",
   "execution_count": 32,
   "metadata": {},
   "outputs": [
    {
     "name": "stdout",
     "output_type": "stream",
     "text": [
      "Mean reward : 27066.666666666668\n"
     ]
    }
   ],
   "source": [
    "print('Mean reward : {}'.format(reward))"
   ]
  },
  {
   "cell_type": "code",
   "execution_count": null,
   "metadata": {},
   "outputs": [],
   "source": []
  }
 ],
 "metadata": {
  "kernelspec": {
   "display_name": "Python 3",
   "language": "python",
   "name": "python3"
  },
  "language_info": {
   "codemirror_mode": {
    "name": "ipython",
    "version": 3
   },
   "file_extension": ".py",
   "mimetype": "text/x-python",
   "name": "python",
   "nbconvert_exporter": "python",
   "pygments_lexer": "ipython3",
   "version": "3.7.5"
  }
 },
 "nbformat": 4,
 "nbformat_minor": 4
}

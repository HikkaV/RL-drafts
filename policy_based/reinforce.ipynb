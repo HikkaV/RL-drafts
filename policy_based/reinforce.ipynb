{
 "cells": [
  {
   "cell_type": "code",
   "execution_count": 1,
   "metadata": {},
   "outputs": [],
   "source": [
    "import gym\n",
    "import numpy as np\n",
    "import matplotlib.pyplot as plt\n",
    "import tensorflow as tf\n",
    "from tensorflow.keras.models import Sequential\n",
    "from tensorflow.keras.layers import Dense, InputLayer\n",
    "%matplotlib inline"
   ]
  },
  {
   "cell_type": "markdown",
   "metadata": {},
   "source": [
    "# Creating playing environment"
   ]
  },
  {
   "cell_type": "code",
   "execution_count": 2,
   "metadata": {},
   "outputs": [
    {
     "data": {
      "text/plain": [
       "<matplotlib.image.AxesImage at 0x1387bf4d0>"
      ]
     },
     "execution_count": 2,
     "metadata": {},
     "output_type": "execute_result"
    },
    {
     "data": {
      "image/png": "[encoded data removed]",
      "text/plain": [
       "<Figure size 432x288 with 1 Axes>"
      ]
     },
     "metadata": {
      "needs_background": "light"
     },
     "output_type": "display_data"
    }
   ],
   "source": [
    "env = gym.make(\"CartPole-v0\")\n",
    "\n",
    "if hasattr(env, '_max_episode_steps'):\n",
    "    env = env.env\n",
    "\n",
    "env.reset()\n",
    "n_actions = env.action_space.n\n",
    "state_dim = env.observation_space.shape\n",
    "\n",
    "plt.imshow(env.render(\"rgb_array\"))"
   ]
  },
  {
   "cell_type": "markdown",
   "metadata": {},
   "source": [
    "# Creating an agent"
   ]
  },
  {
   "cell_type": "code",
   "execution_count": 3,
   "metadata": {},
   "outputs": [],
   "source": [
    "class ReinforceAgent:\n",
    "    def __init__(self, state_dim, n_actions,alpha=0.1):\n",
    "        self.state_dim = state_dim\n",
    "        self.n_actions = n_actions\n",
    "        self.alpha = alpha\n",
    "        self.sess = tf.InteractiveSession()\n",
    "        self.ph_states, self.ph_actions, self.ph_cumulative_rewards = self.init_placeholders()\n",
    "        self.policy, self.log_policy  = self.make_model()\n",
    "        self.update = self.init_graph()\n",
    "        self.sess.run(tf.global_variables_initializer())\n",
    "        \n",
    "    def make_model(self):\n",
    "        model = Sequential()\n",
    "        model.add(InputLayer(input_shape=self.state_dim))\n",
    "        model.add(Dense(units=200,activation='relu'))\n",
    "        model.add(Dense(units=150,activation='relu'))\n",
    "        model.add(Dense(units=75,activation='relu'))\n",
    "        model.add(Dense(units=self.n_actions))\n",
    "        logits = model(self.ph_states) \n",
    "        policy = tf.nn.softmax(logits)\n",
    "        log_policy = tf.nn.log_softmax(logits)\n",
    "        self.sess.run(tf.global_variables_initializer())\n",
    "        return policy, log_policy \n",
    "    \n",
    "    def init_placeholders(self):\n",
    "        ph_states = tf.placeholder('float32', (None,) + self.state_dim, name=\"states\")\n",
    "        ph_actions = tf.placeholder('int32', name=\"action_ids\")\n",
    "        ph_cumulative_rewards = tf.placeholder('float32', name=\"cumulative_returns\")\n",
    "        return ph_states, ph_actions, ph_cumulative_rewards\n",
    "    \n",
    "    def init_graph(self):\n",
    "        indices = tf.stack([tf.range(tf.shape(self.log_policy)[0]), self.ph_actions], axis=-1)\n",
    "        log_policy_for_actions = tf.gather_nd(self.log_policy, indices)\n",
    "        J = tf.reduce_mean(log_policy_for_actions*self.ph_cumulative_rewards,axis=-1)\n",
    "        entropy = - tf.reduce_mean(self.policy*self.log_policy)\n",
    "        loss = -(J + self.alpha * entropy)\n",
    "        update = tf.train.AdamOptimizer().minimize(loss)\n",
    "        return update\n",
    "    \n",
    "    def train(self, states, actions, cumulative_rewards):\n",
    "         self.update.run({\n",
    "                self.ph_states: states,\n",
    "                self.ph_actions: actions,\n",
    "                self.ph_cumulative_rewards: cumulative_rewards,\n",
    "                        })\n",
    "    \n",
    "    def predict(self, s):\n",
    "        probs = self.policy.eval({self.ph_states: [s]})[0]\n",
    "        action = np.random.choice(a=self.n_actions,p=probs)\n",
    "        return action"
   ]
  },
  {
   "cell_type": "markdown",
   "metadata": {},
   "source": [
    "# Training an agent"
   ]
  },
  {
   "cell_type": "code",
   "execution_count": 4,
   "metadata": {},
   "outputs": [],
   "source": [
    "gamma = 0.99\n",
    "alpha = 0.1"
   ]
  },
  {
   "cell_type": "code",
   "execution_count": 5,
   "metadata": {},
   "outputs": [
    {
     "name": "stdout",
     "output_type": "stream",
     "text": [
      "WARNING:tensorflow:From /Users/volodymyrkovenko/envs/rl_env/lib/python3.7/site-packages/tensorflow_core/python/ops/resource_variable_ops.py:1630: calling BaseResourceVariable.__init__ (from tensorflow.python.ops.resource_variable_ops) with constraint is deprecated and will be removed in a future version.\n",
      "Instructions for updating:\n",
      "If using Keras pass *_constraint arguments to layers.\n"
     ]
    }
   ],
   "source": [
    "agent = ReinforceAgent(n_actions=n_actions,state_dim=state_dim,alpha=alpha)"
   ]
  },
  {
   "cell_type": "code",
   "execution_count": 6,
   "metadata": {},
   "outputs": [],
   "source": [
    "def generate_session(agent, env, t_max=1000):\n",
    "    \"\"\" \n",
    "    Play a full session with REINFORCE agent.\n",
    "    Returns sequences of states, actions, and rewards.\n",
    "    \"\"\"\n",
    "    # arrays to record session\n",
    "    states, actions, rewards = [], [], []\n",
    "    s = env.reset()\n",
    "\n",
    "    for t in range(t_max):\n",
    "        a = agent.predict(s)\n",
    "        new_s, r, done, info = env.step(a)\n",
    "        states.append(s)\n",
    "        actions.append(a)\n",
    "        rewards.append(r)\n",
    "\n",
    "        s = new_s\n",
    "        if done:\n",
    "            break\n",
    "\n",
    "    return states, actions, rewards"
   ]
  },
  {
   "cell_type": "code",
   "execution_count": 7,
   "metadata": {},
   "outputs": [],
   "source": [
    "def get_cumulative_rewards(rewards,  \n",
    "                           gamma=0.99  \n",
    "                           ):\n",
    "    \"\"\"\n",
    "    Take a list of immediate rewards r(s,a) for the whole session \n",
    "    and compute cumulative returns \n",
    "    \"\"\"\n",
    "    cum_rewards = [rewards[-1]]\n",
    "    for t, r in enumerate(rewards[::-1]):\n",
    "        g_t = r+gamma*cum_rewards[t]\n",
    "        cum_rewards.append(g_t)\n",
    "    return cum_rewards[1:][::-1]"
   ]
  },
  {
   "cell_type": "code",
   "execution_count": 12,
   "metadata": {},
   "outputs": [],
   "source": [
    "def train(agent,env, gamma=0.99, num_epochs=100, ep_per_epoch=100):\n",
    "    for epoch in range(num_epochs):\n",
    "        global_rewards = []\n",
    "        for episode in range(ep_per_epoch):\n",
    "            states, actions, rewards = generate_session(agent, env)\n",
    "            returns = get_cumulative_rewards(rewards,gamma)\n",
    "            agent.train(states,actions,returns)\n",
    "            global_rewards.append(sum(rewards))\n",
    "            \n",
    "\n",
    "        print(\"mean reward: %.3f\" % (np.mean(global_rewards)))\n",
    "        if np.mean(global_rewards) > 300:\n",
    "            print(\"You Win!\")  # \n",
    "            break"
   ]
  },
  {
   "cell_type": "code",
   "execution_count": 13,
   "metadata": {},
   "outputs": [
    {
     "name": "stdout",
     "output_type": "stream",
     "text": [
      "mean reward: 175.860\n",
      "mean reward: 90.790\n",
      "mean reward: 93.710\n",
      "mean reward: 114.130\n",
      "mean reward: 90.010\n",
      "mean reward: 151.560\n",
      "mean reward: 595.890\n",
      "You Win!\n"
     ]
    }
   ],
   "source": [
    "train(agent,env)"
   ]
  },
  {
   "cell_type": "markdown",
   "metadata": {},
   "source": [
    "# Visualization of process"
   ]
  },
  {
   "cell_type": "code",
   "execution_count": null,
   "metadata": {},
   "outputs": [],
   "source": []
  }
 ],
 "metadata": {
  "kernelspec": {
   "display_name": "Python 3",
   "language": "python",
   "name": "python3"
  },
  "language_info": {
   "codemirror_mode": {
    "name": "ipython",
    "version": 3
   },
   "file_extension": ".py",
   "mimetype": "text/x-python",
   "name": "python",
   "nbconvert_exporter": "python",
   "pygments_lexer": "ipython3",
   "version": "3.7.6"
  }
 },
 "nbformat": 4,
 "nbformat_minor": 4
}

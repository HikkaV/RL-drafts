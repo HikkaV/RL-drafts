{
 "cells": [
  {
   "cell_type": "markdown",
   "metadata": {
    "id": "DhCUh00g8goc"
   },
   "source": [
    "# Double Dueling Deep Q-Network with experience replay implementation\n",
    "\n"
   ]
  },
  {
   "cell_type": "code",
   "execution_count": 28,
   "metadata": {},
   "outputs": [],
   "source": [
    "ABS_PATH = 'checkpoints/prioritized-dueling_dqn/'"
   ]
  },
  {
   "cell_type": "code",
   "execution_count": 29,
   "metadata": {},
   "outputs": [],
   "source": [
    "import os\n",
    "if not os.path.exists(ABS_PATH):\n",
    "    os.mkdir(ABS_PATH)"
   ]
  },
  {
   "cell_type": "code",
   "execution_count": 30,
   "metadata": {
    "executionInfo": {
     "elapsed": 2151,
     "status": "ok",
     "timestamp": 1601218350219,
     "user": {
      "displayName": "Volodymyr Kovenko",
      "photoUrl": "https://lh3.googleusercontent.com/a-/AOh14GjwWtSvcYunIucBoA_BTncgIYK9g7Qmx2G7DYfUMA=s64",
      "userId": "07628594889993971076"
     },
     "user_tz": -180
    },
    "id": "a4YIpxKQ8gom"
   },
   "outputs": [],
   "source": [
    "import gym\n",
    "import numpy as np\n",
    "import pandas as pd\n",
    "import tqdm\n",
    "import os\n",
    "import re\n",
    "import matplotlib.pyplot as plt\n",
    "%matplotlib inline\n",
    "import sys\n",
    "sys.path.insert(0,'../')\n",
    "from buffers.frame_buffer import FrameBuffer\n",
    "from preprocessings.atari_preprocessing import AtariPreprocess"
   ]
  },
  {
   "cell_type": "code",
   "execution_count": 31,
   "metadata": {
    "colab": {
     "base_uri": "https://localhost:8080/",
     "height": 315
    },
    "executionInfo": {
     "elapsed": 2679,
     "status": "ok",
     "timestamp": 1601218350759,
     "user": {
      "displayName": "Volodymyr Kovenko",
      "photoUrl": "https://lh3.googleusercontent.com/a-/AOh14GjwWtSvcYunIucBoA_BTncgIYK9g7Qmx2G7DYfUMA=s64",
      "userId": "07628594889993971076"
     },
     "user_tz": -180
    },
    "id": "xZrGZxdQ8gox",
    "outputId": "666b10a0-23c9-4387-a2af-7a4f1a22ef9c"
   },
   "outputs": [
    {
     "data": {
      "text/plain": [
       "<matplotlib.image.AxesImage at 0x7fb1034630d0>"
      ]
     },
     "execution_count": 31,
     "metadata": {},
     "output_type": "execute_result"
    },
    {
     "data": {
      "image/png": "[encoded data removed]",
      "text/plain": [
       "<Figure size 432x288 with 1 Axes>"
      ]
     },
     "metadata": {
      "needs_background": "light"
     },
     "output_type": "display_data"
    }
   ],
   "source": [
    "import gym\n",
    "# spawn game instance for tests\n",
    "env = gym.make(\"BreakoutDeterministic-v0\")  # create raw env\n",
    "env = AtariPreprocess(env)\n",
    "\n",
    "observation_shape = env.observation_space.shape\n",
    "n_actions = env.action_space.n\n",
    "\n",
    "obs = env.reset()\n",
    "\n",
    "plt.title(\"what your network gonna see\")\n",
    "plt.imshow(obs.reshape((64,64)), interpolation='none', cmap='gray')"
   ]
  },
  {
   "cell_type": "markdown",
   "metadata": {
    "id": "zS6kxsUa8go2"
   },
   "source": [
    "### Frame buffer"
   ]
  },
  {
   "cell_type": "code",
   "execution_count": 32,
   "metadata": {
    "executionInfo": {
     "elapsed": 2670,
     "status": "ok",
     "timestamp": 1601218350760,
     "user": {
      "displayName": "Volodymyr Kovenko",
      "photoUrl": "https://lh3.googleusercontent.com/a-/AOh14GjwWtSvcYunIucBoA_BTncgIYK9g7Qmx2G7DYfUMA=s64",
      "userId": "07628594889993971076"
     },
     "user_tz": -180
    },
    "id": "uWdT45Ou8go3"
   },
   "outputs": [],
   "source": [
    "def make_env():\n",
    "    env = gym.make(\"BreakoutDeterministic-v0\")\n",
    "    env = BreakoutPreprocess(env)\n",
    "    env = FrameBuffer(env, n_frames=4, dim_order='tensorflow')\n",
    "    return env\n",
    "\n",
    "\n",
    "env = make_env()\n",
    "env.reset()\n",
    "n_actions = env.action_space.n\n",
    "state_dim = env.observation_space.shape"
   ]
  },
  {
   "cell_type": "code",
   "execution_count": 33,
   "metadata": {
    "colab": {
     "base_uri": "https://localhost:8080/",
     "height": 429
    },
    "executionInfo": {
     "elapsed": 2663,
     "status": "ok",
     "timestamp": 1601218350760,
     "user": {
      "displayName": "Volodymyr Kovenko",
      "photoUrl": "https://lh3.googleusercontent.com/a-/AOh14GjwWtSvcYunIucBoA_BTncgIYK9g7Qmx2G7DYfUMA=s64",
      "userId": "07628594889993971076"
     },
     "user_tz": -180
    },
    "id": "ubqbckla8go6",
    "outputId": "eccb84ab-f04f-4daf-99ac-037a65d97f96"
   },
   "outputs": [
    {
     "data": {
      "image/png": "[encoded data removed]",
      "text/plain": [
       "<Figure size 432x288 with 1 Axes>"
      ]
     },
     "metadata": {
      "needs_background": "light"
     },
     "output_type": "display_data"
    },
    {
     "data": {
      "text/plain": [
       "<matplotlib.image.AxesImage at 0x7fb1032e9e50>"
      ]
     },
     "execution_count": 33,
     "metadata": {},
     "output_type": "execute_result"
    },
    {
     "data": {
      "image/png": "[encoded data removed]",
      "text/plain": [
       "<Figure size 432x288 with 1 Axes>"
      ]
     },
     "metadata": {
      "needs_background": "light"
     },
     "output_type": "display_data"
    }
   ],
   "source": [
    "for _ in range(50):\n",
    "    obs, _, _, _ = env.step(env.action_space.sample())\n",
    "\n",
    "\n",
    "plt.title(\"Game image\")\n",
    "plt.imshow(env.render(\"rgb_array\"))\n",
    "plt.show()\n",
    "plt.title(\"Agent observation (4 frames left to right)\")\n",
    "plt.imshow(obs.transpose([0, 2, 1]).reshape([state_dim[0], -1]), cmap='gray')"
   ]
  },
  {
   "cell_type": "markdown",
   "metadata": {
    "id": "EDjCdNiZ8go_"
   },
   "source": [
    "### Building a network\n"
   ]
  },
  {
   "cell_type": "markdown",
   "metadata": {},
   "source": [
    "### Majour settings"
   ]
  },
  {
   "cell_type": "code",
   "execution_count": 34,
   "metadata": {},
   "outputs": [],
   "source": [
    "path_agent = ''\n",
    "path_target = ''\n",
    "initial_epsilon = 1\n",
    "eta = 2.5e-4\n",
    "alpha = 0.5\n",
    "beta = 0.5\n",
    "load = False\n",
    "train = True"
   ]
  },
  {
   "cell_type": "code",
   "execution_count": 35,
   "metadata": {
    "executionInfo": {
     "elapsed": 9857,
     "status": "ok",
     "timestamp": 1601218357962,
     "user": {
      "displayName": "Volodymyr Kovenko",
      "photoUrl": "https://lh3.googleusercontent.com/a-/AOh14GjwWtSvcYunIucBoA_BTncgIYK9g7Qmx2G7DYfUMA=s64",
      "userId": "07628594889993971076"
     },
     "user_tz": -180
    },
    "id": "gj-DuZmq8gpA"
   },
   "outputs": [
    {
     "name": "stderr",
     "output_type": "stream",
     "text": [
      "/home/volodymyr/envs/dqn_env/lib/python3.7/site-packages/tensorflow_core/python/client/session.py:1750: UserWarning: An interactive session is already active. This can cause out-of-memory errors in some cases. You must explicitly call `InteractiveSession.close()` to release resources held by the other session(s).\n",
      "  warnings.warn('An interactive session is already active. This can '\n"
     ]
    }
   ],
   "source": [
    "import tensorflow as tf\n",
    "tf.reset_default_graph()\n",
    "sess = tf.InteractiveSession()"
   ]
  },
  {
   "cell_type": "code",
   "execution_count": 36,
   "metadata": {
    "colab": {
     "base_uri": "https://localhost:8080/",
     "height": 34
    },
    "executionInfo": {
     "elapsed": 9851,
     "status": "ok",
     "timestamp": 1601218357965,
     "user": {
      "displayName": "Volodymyr Kovenko",
      "photoUrl": "https://lh3.googleusercontent.com/a-/AOh14GjwWtSvcYunIucBoA_BTncgIYK9g7Qmx2G7DYfUMA=s64",
      "userId": "07628594889993971076"
     },
     "user_tz": -180
    },
    "id": "moWwR50RCxNq",
    "outputId": "8555a39b-a38d-463b-9e3e-6b282720c586"
   },
   "outputs": [],
   "source": [
    "from tensorflow.keras.layers import Conv2D, Dense, Flatten, Input, Lambda, Subtract, Add\n",
    "from tensorflow.keras.models import Model"
   ]
  },
  {
   "cell_type": "code",
   "execution_count": 37,
   "metadata": {
    "executionInfo": {
     "elapsed": 9845,
     "status": "ok",
     "timestamp": 1601218357966,
     "user": {
      "displayName": "Volodymyr Kovenko",
      "photoUrl": "https://lh3.googleusercontent.com/a-/AOh14GjwWtSvcYunIucBoA_BTncgIYK9g7Qmx2G7DYfUMA=s64",
      "userId": "07628594889993971076"
     },
     "user_tz": -180
    },
    "id": "J_iWBLnj8gpD"
   },
   "outputs": [],
   "source": [
    "class DDQNAgent:\n",
    "    def __init__(self, name, state_shape, n_actions, epsilon=0, reuse=False):\n",
    "        \"\"\"A simple DQN agent\"\"\"\n",
    "        with tf.variable_scope(name, reuse=reuse):\n",
    "            x = Input(shape=state_shape)\n",
    "            self.model = Conv2D(filters=16, kernel_size=(3,3), padding='valid', strides=(2,2), activation='relu')(x)\n",
    "            self.model = Conv2D(filters=32, kernel_size=(3,3), padding='valid', strides=(2,2),activation='relu')(self.model)\n",
    "            self.model = Conv2D(filters=64, kernel_size=(3,3), padding='valid', strides=(2,2),activation='relu')(self.model)\n",
    "            self.model = Flatten()(self.model)\n",
    "            self.model = Dense(256, activation='relu')(self.model)\n",
    "            self.advantage_layer = Dense(n_actions)(self.model)\n",
    "            self.advantage_mean_layer = Lambda(lambda x: tf.reduce_mean(x,axis=1))(self.advantage_layer)\n",
    "            self.advantage_layer = Subtract()([self.advantage_layer,self.advantage_mean_layer])\n",
    "            self.value_layer = Dense(1)(self.model)\n",
    "            self.model = Add()([self.value_layer,self.advantage_layer])\n",
    "            self.model = Model(inputs=x, outputs=self.model)\n",
    "\n",
    "            self.state_t = tf.placeholder('float32', [None, ] + list(state_shape))\n",
    "            self.qvalues_t = self.get_symbolic_qvalues(self.state_t)\n",
    "\n",
    "        self.weights = tf.get_collection(\n",
    "            tf.GraphKeys.TRAINABLE_VARIABLES, scope=name)\n",
    "        self.epsilon = epsilon\n",
    "        self.chosen_path = None\n",
    "        \n",
    "    def get_symbolic_qvalues(self, state_t):\n",
    "        \"\"\"takes agent's observation, returns qvalues. Both are tf Tensors\"\"\"\n",
    "        qvalues = self.model(state_t)\n",
    "\n",
    "        assert tf.is_numeric_tensor(qvalues) and qvalues.shape.ndims == 2, \\\n",
    "            \"please return 2d tf tensor of qvalues [you got %s]\" % repr(qvalues)\n",
    "        assert int(qvalues.shape[1]) == n_actions\n",
    "\n",
    "        return qvalues\n",
    "    \n",
    "    def save_weights(self,path):\n",
    "        self.model.save_weights(path)\n",
    "    \n",
    "    def load_weights(self,path=None):\n",
    "        if not path:\n",
    "            files = os.listdir(ABS_PATH)\n",
    "            assert files, \"Can't load weights, as there is no saved weight in {0}\".format('checkpoints/dqn/')\n",
    "            path = sorted(files, key=lambda x: re.findall(r'step:\\d+',x)[0].split(':')[1])[-1]\n",
    "            path = os.path.join(ABS_PATH,path)   \n",
    "            self.chosen_path = path\n",
    "        self.model.load_weights(path)\n",
    "        print('Loaded weights')\n",
    "    \n",
    "    def get_qvalues(self, state_t):\n",
    "        \"\"\"Same as symbolic step except it operates on numpy arrays\"\"\"\n",
    "        sess = tf.get_default_session()\n",
    "        return sess.run(self.qvalues_t, {self.state_t: state_t})\n",
    "\n",
    "    def sample_actions(self, qvalues):\n",
    "        \"\"\"pick actions given qvalues. Uses epsilon-greedy exploration strategy. \"\"\"\n",
    "        epsilon = self.epsilon\n",
    "        batch_size, n_actions = qvalues.shape\n",
    "        random_actions = np.random.choice(n_actions, size=batch_size)\n",
    "        best_actions = qvalues.argmax(axis=-1)\n",
    "        should_explore = np.random.choice([0, 1], batch_size, p=[1-epsilon, epsilon])\n",
    "        return np.where(should_explore, random_actions, best_actions)"
   ]
  },
  {
   "cell_type": "code",
   "execution_count": 38,
   "metadata": {
    "colab": {
     "base_uri": "https://localhost:8080/",
     "height": 88
    },
    "executionInfo": {
     "elapsed": 17178,
     "status": "ok",
     "timestamp": 1601218365307,
     "user": {
      "displayName": "Volodymyr Kovenko",
      "photoUrl": "https://lh3.googleusercontent.com/a-/AOh14GjwWtSvcYunIucBoA_BTncgIYK9g7Qmx2G7DYfUMA=s64",
      "userId": "07628594889993971076"
     },
     "user_tz": -180
    },
    "id": "TaURKnBy8gpJ",
    "outputId": "2ebe8d0e-0307-4c0b-99de-37fc5843b552"
   },
   "outputs": [],
   "source": [
    "agent = DDQNAgent(\"dqn_agent\", state_dim, n_actions, epsilon=initial_epsilon)\n",
    "sess.run(tf.global_variables_initializer())"
   ]
  },
  {
   "cell_type": "markdown",
   "metadata": {
    "id": "XY3IPrab8gpP"
   },
   "source": [
    "Now let's try out our agent to see if it raises any errors."
   ]
  },
  {
   "cell_type": "code",
   "execution_count": 39,
   "metadata": {
    "executionInfo": {
     "elapsed": 17170,
     "status": "ok",
     "timestamp": 1601218365308,
     "user": {
      "displayName": "Volodymyr Kovenko",
      "photoUrl": "https://lh3.googleusercontent.com/a-/AOh14GjwWtSvcYunIucBoA_BTncgIYK9g7Qmx2G7DYfUMA=s64",
      "userId": "07628594889993971076"
     },
     "user_tz": -180
    },
    "id": "vfTY4Sjf8gpP"
   },
   "outputs": [],
   "source": [
    "def evaluate(env, agent, n_games=1, greedy=False, t_max=10000):\n",
    "    \"\"\" Plays n_games full games. If greedy, picks actions as argmax(qvalues). Returns mean reward. \"\"\"\n",
    "    rewards = []\n",
    "    for _ in range(n_games):\n",
    "        s = env.reset()\n",
    "        reward = 0\n",
    "        for _ in range(t_max):\n",
    "            qvalues = agent.get_qvalues([s])\n",
    "            action = qvalues.argmax(axis=-1)[0] if greedy else agent.sample_actions(qvalues)[0]\n",
    "            s, r, done, _ = env.step(action)\n",
    "            reward += r\n",
    "            if done:\n",
    "                break\n",
    "\n",
    "        rewards.append(reward)\n",
    "    return np.mean(rewards)"
   ]
  },
  {
   "cell_type": "code",
   "execution_count": 40,
   "metadata": {
    "colab": {
     "base_uri": "https://localhost:8080/",
     "height": 34
    },
    "executionInfo": {
     "elapsed": 24226,
     "status": "ok",
     "timestamp": 1601218372370,
     "user": {
      "displayName": "Volodymyr Kovenko",
      "photoUrl": "https://lh3.googleusercontent.com/a-/AOh14GjwWtSvcYunIucBoA_BTncgIYK9g7Qmx2G7DYfUMA=s64",
      "userId": "07628594889993971076"
     },
     "user_tz": -180
    },
    "id": "frxvWkhR8gpT",
    "outputId": "3a16c8e4-41a3-4395-89f7-c525dc55d1b3"
   },
   "outputs": [
    {
     "data": {
      "text/plain": [
       "0.0"
      ]
     },
     "execution_count": 40,
     "metadata": {},
     "output_type": "execute_result"
    }
   ],
   "source": [
    "evaluate(env, agent, n_games=1)"
   ]
  },
  {
   "cell_type": "code",
   "execution_count": 41,
   "metadata": {
    "executionInfo": {
     "elapsed": 1324,
     "status": "ok",
     "timestamp": 1601218523174,
     "user": {
      "displayName": "Volodymyr Kovenko",
      "photoUrl": "https://lh3.googleusercontent.com/a-/AOh14GjwWtSvcYunIucBoA_BTncgIYK9g7Qmx2G7DYfUMA=s64",
      "userId": "07628594889993971076"
     },
     "user_tz": -180
    },
    "id": "SwemkKtf8gpb"
   },
   "outputs": [],
   "source": [
    "def play_and_record(agent, env, exp_replay, n_steps=1):\n",
    "    s = env.framebuffer\n",
    "    rewards = 0\n",
    "    last_info = None\n",
    "    for i in range(n_steps):\n",
    "      qvalues = agent.get_qvalues([s])\n",
    "      a = agent.sample_actions(qvalues)[0]\n",
    "      next_s, r, done, info = env.step(a)\n",
    "      if (last_info is not None and last_info['ale.lives'] > info['ale.lives'] ):\n",
    "        done = True\n",
    "      exp_replay.add(s,a,r,next_s,done)\n",
    "      s = next_s\n",
    "      last_info = info\n",
    "      rewards += r\n",
    "      if done:\n",
    "        s = env.reset()\n",
    "    return rewards"
   ]
  },
  {
   "cell_type": "code",
   "execution_count": 42,
   "metadata": {
    "executionInfo": {
     "elapsed": 27015,
     "status": "ok",
     "timestamp": 1601218549787,
     "user": {
      "displayName": "Volodymyr Kovenko",
      "photoUrl": "https://lh3.googleusercontent.com/a-/AOh14GjwWtSvcYunIucBoA_BTncgIYK9g7Qmx2G7DYfUMA=s64",
      "userId": "07628594889993971076"
     },
     "user_tz": -180
    },
    "id": "L0D9a-BD8gpj"
   },
   "outputs": [],
   "source": [
    "target_network = DDQNAgent(\"target_network\", state_dim, n_actions)"
   ]
  },
  {
   "cell_type": "code",
   "execution_count": 43,
   "metadata": {
    "executionInfo": {
     "elapsed": 26791,
     "status": "ok",
     "timestamp": 1601218549789,
     "user": {
      "displayName": "Volodymyr Kovenko",
      "photoUrl": "https://lh3.googleusercontent.com/a-/AOh14GjwWtSvcYunIucBoA_BTncgIYK9g7Qmx2G7DYfUMA=s64",
      "userId": "07628594889993971076"
     },
     "user_tz": -180
    },
    "id": "bxxHSJM08gpo"
   },
   "outputs": [],
   "source": [
    "def load_weigths_into_target_network(agent, target_network):\n",
    "    \"\"\" assign target_network.weights variables to their respective agent.weights values. \"\"\"\n",
    "    assigns = []\n",
    "    for w_agent, w_target in zip(agent.weights, target_network.weights):\n",
    "        assigns.append(tf.assign(w_target, w_agent, validate_shape=True))\n",
    "    return assigns"
   ]
  },
  {
   "cell_type": "code",
   "execution_count": 44,
   "metadata": {},
   "outputs": [],
   "source": [
    "copy_step = load_weigths_into_target_network(agent,target_network)"
   ]
  },
  {
   "cell_type": "markdown",
   "metadata": {
    "id": "yCL3tYYL8gpz"
   },
   "source": [
    "### Learning with... Q-learning\n"
   ]
  },
  {
   "cell_type": "code",
   "execution_count": 45,
   "metadata": {
    "executionInfo": {
     "elapsed": 26040,
     "status": "ok",
     "timestamp": 1601218549791,
     "user": {
      "displayName": "Volodymyr Kovenko",
      "photoUrl": "https://lh3.googleusercontent.com/a-/AOh14GjwWtSvcYunIucBoA_BTncgIYK9g7Qmx2G7DYfUMA=s64",
      "userId": "07628594889993971076"
     },
     "user_tz": -180
    },
    "id": "OtakSsuR8gp0"
   },
   "outputs": [],
   "source": [
    "obs_ph = tf.placeholder(tf.float32, shape=(None,) + state_dim)\n",
    "actions_ph = tf.placeholder(tf.int32, shape=[None])\n",
    "rewards_ph = tf.placeholder(tf.float32, shape=[None])\n",
    "next_obs_ph = tf.placeholder(tf.float32, shape=(None,) + state_dim)\n",
    "is_done_ph = tf.placeholder(tf.float32, shape=[None])\n",
    "sample_weights_ph = tf.placeholder(tf.float32, shape=[None])\n",
    "\n",
    "is_not_done = 1 - is_done_ph\n",
    "gamma = 0.99"
   ]
  },
  {
   "cell_type": "code",
   "execution_count": 46,
   "metadata": {
    "executionInfo": {
     "elapsed": 25462,
     "status": "ok",
     "timestamp": 1601218549792,
     "user": {
      "displayName": "Volodymyr Kovenko",
      "photoUrl": "https://lh3.googleusercontent.com/a-/AOh14GjwWtSvcYunIucBoA_BTncgIYK9g7Qmx2G7DYfUMA=s64",
      "userId": "07628594889993971076"
     },
     "user_tz": -180
    },
    "id": "hn4zG3ef8gp4"
   },
   "outputs": [],
   "source": [
    "current_qvalues = agent.get_symbolic_qvalues(obs_ph)\n",
    "actions_with_max = tf.argmax(current_qvalues, axis=1)\n",
    "current_action_qvalues = tf.reduce_sum(tf.one_hot(actions_ph, n_actions) * current_qvalues, axis=1)\n"
   ]
  },
  {
   "cell_type": "code",
   "execution_count": 47,
   "metadata": {
    "colab": {
     "base_uri": "https://localhost:8080/",
     "height": 88
    },
    "executionInfo": {
     "elapsed": 24933,
     "status": "ok",
     "timestamp": 1601218550189,
     "user": {
      "displayName": "Volodymyr Kovenko",
      "photoUrl": "https://lh3.googleusercontent.com/a-/AOh14GjwWtSvcYunIucBoA_BTncgIYK9g7Qmx2G7DYfUMA=s64",
      "userId": "07628594889993971076"
     },
     "user_tz": -180
    },
    "id": "eRuL6sMh8gp7",
    "outputId": "e55be840-fb74-4aa2-90bd-8a5326ba1c48"
   },
   "outputs": [],
   "source": [
    "next_qvalues_target = target_network.get_symbolic_qvalues(next_obs_ph) \n",
    "next_state_values_target = tf.reduce_sum(tf.one_hot(actions_with_max,n_actions)*next_qvalues_target,axis=1)\n",
    "# next_state_values_target = tf.reduce_max(next_qvalues_target, axis=1)  \n",
    "reference_qvalues = rewards_ph+gamma*next_state_values_target*is_not_done \n",
    "\n",
    "td_error = tf.math.abs(current_action_qvalues - reference_qvalues)\n",
    "td_loss = sample_weights_ph*(td_error**2)\n",
    "td_loss = tf.reduce_mean(td_loss)\n",
    "\n",
    "train_step = tf.train.AdamOptimizer(eta).minimize(td_loss, var_list=agent.weights)"
   ]
  },
  {
   "cell_type": "code",
   "execution_count": 48,
   "metadata": {
    "executionInfo": {
     "elapsed": 24387,
     "status": "ok",
     "timestamp": 1601218550190,
     "user": {
      "displayName": "Volodymyr Kovenko",
      "photoUrl": "https://lh3.googleusercontent.com/a-/AOh14GjwWtSvcYunIucBoA_BTncgIYK9g7Qmx2G7DYfUMA=s64",
      "userId": "07628594889993971076"
     },
     "user_tz": -180
    },
    "id": "vaiZc4jW8gp_"
   },
   "outputs": [],
   "source": [
    "sess.run(tf.global_variables_initializer())"
   ]
  },
  {
   "cell_type": "code",
   "execution_count": 49,
   "metadata": {},
   "outputs": [],
   "source": [
    "if load:\n",
    "    path_agent = path_agent if path_agent else None\n",
    "    agent.load_weights(path_agent)\n",
    "    \n",
    "if load:\n",
    "    path_target = path_target if path_agent else None\n",
    "    target_network.load_weights(path_target)"
   ]
  },
  {
   "cell_type": "markdown",
   "metadata": {
    "id": "GllUiBZ48gqE"
   },
   "source": [
    "### Main loop\n"
   ]
  },
  {
   "cell_type": "code",
   "execution_count": 50,
   "metadata": {},
   "outputs": [],
   "source": [
    "epochs = 20\n",
    "buffer_size = 30000\n",
    "annealing = 0.998\n",
    "batch_size = 64"
   ]
  },
  {
   "cell_type": "code",
   "execution_count": 51,
   "metadata": {
    "executionInfo": {
     "elapsed": 21626,
     "status": "ok",
     "timestamp": 1601218550193,
     "user": {
      "displayName": "Volodymyr Kovenko",
      "photoUrl": "https://lh3.googleusercontent.com/a-/AOh14GjwWtSvcYunIucBoA_BTncgIYK9g7Qmx2G7DYfUMA=s64",
      "userId": "07628594889993971076"
     },
     "user_tz": -180
    },
    "id": "Z8OvsSOb8gqF"
   },
   "outputs": [],
   "source": [
    "from tqdm import trange\n",
    "import pandas as pd\n",
    "from IPython.display import clear_output\n",
    "import matplotlib.pyplot as plt\n",
    "import datetime\n",
    "from buffers.replay_buffer import PrioritizedReplayBuffer\n",
    "%matplotlib inline\n",
    "\n",
    "def moving_average(x, span=100, **kw):\n",
    "    return pd.DataFrame({'x': np.asarray(x)}).x.ewm(span=span, **kw).mean().values\n",
    "\n",
    "mean_rw_history = []\n",
    "td_loss_history = []"
   ]
  },
  {
   "cell_type": "code",
   "execution_count": 52,
   "metadata": {
    "colab": {
     "base_uri": "https://localhost:8080/",
     "height": 34
    },
    "id": "iGSmVOGg8gqP",
    "outputId": "66866ff8-3526-4ccd-dd51-05e784af5619"
   },
   "outputs": [
    {
     "name": "stdout",
     "output_type": "stream",
     "text": [
      "buffer size = 30000, epsilon = 0.10000, epoch = 19\n"
     ]
    },
    {
     "data": {
      "image/png": "[encoded data removed]",
      "text/plain": [
       "<Figure size 432x288 with 1 Axes>"
      ]
     },
     "metadata": {
      "needs_background": "light"
     },
     "output_type": "display_data"
    },
    {
     "data": {
      "image/png": "[encoded data removed]",
      "text/plain": [
       "<Figure size 864x288 with 1 Axes>"
      ]
     },
     "metadata": {
      "needs_background": "light"
     },
     "output_type": "display_data"
    },
    {
     "name": "stderr",
     "output_type": "stream",
     "text": [
      "100%|██████████| 1000000/1000000 [13:50:11<00:00, 20.08it/s]\n"
     ]
    }
   ],
   "source": [
    "if train:\n",
    "    date_stamp = datetime.datetime.strftime(datetime.datetime.now(), format='%Y-%m-%d')\n",
    "    exp_replay = PrioritizedReplayBuffer(buffer_size, alpha=alpha,beta=beta)\n",
    "    play_and_record(agent, env, exp_replay, n_steps=10000)\n",
    "\n",
    "\n",
    "    def sample_batch(exp_replay, batch_size):\n",
    "        obs_batch, act_batch, reward_batch, next_obs_batch, is_done_batch, sample_weights_batch, indexes_batch = exp_replay.sample(batch_size)\n",
    "        return ({\n",
    "            obs_ph: obs_batch,\n",
    "            actions_ph: act_batch,\n",
    "            rewards_ph: reward_batch,\n",
    "            next_obs_ph: next_obs_batch,\n",
    "            is_done_ph: is_done_batch,\n",
    "            sample_weights_ph: sample_weights_batch\n",
    "        },\n",
    "    indexes_batch)\n",
    "    \n",
    "    continue_train = False\n",
    "    if agent.chosen_path:\n",
    "        continue_train = True\n",
    "        step = int(re.findall(r'_step:\\d+',agent.chosen_path)[0].split(':')[1])\n",
    "\n",
    "    for i in trange(epochs*50000):\n",
    "        # play\n",
    "        play_and_record(agent, env, exp_replay, 10)\n",
    "\n",
    "        # train\n",
    "        to_feed, indexes = sample_batch(exp_replay, batch_size=batch_size)\n",
    "        _, loss_t, td_error_t = sess.run([train_step, td_loss, td_error], to_feed)\n",
    "        td_loss_history.append(loss_t)\n",
    "        exp_replay.update_priorities(td_error_t,indexes)\n",
    "\n",
    "        # adjust agent parameters\n",
    "        if i % 500 == 0:\n",
    "            sess.run(copy_step)\n",
    "            agent.epsilon = max(agent.epsilon * annealing, 0.1)\n",
    "            mean_rw_history.append(evaluate(make_env(), agent, n_games=3))\n",
    "        if len(exp_replay)==buffer_size and i!=0 and i%50000==0:\n",
    "            exp_replay.update_parameters()\n",
    "            print(f'Alpha : {exp_replay.alpha}')\n",
    "            print(f'Beta : {exp_replay.beta}')\n",
    "        if i%(10*50000)==0:\n",
    "            if continue_train:\n",
    "                step+=i\n",
    "            else:\n",
    "                step = i\n",
    "            agent.model.save_weights(os.path.join(ABS_PATH,f'agent_model_weights_step:{step}_date:{date_stamp}.h5'))\n",
    "            target_network.model.save_weights(os.path.join(ABS_PATH,f'target_model_weights_step:{step}_date:{date_stamp}.h5'))\n",
    "\n",
    "        if i % 100 == 0:\n",
    "            clear_output(True)\n",
    "            print(\"buffer size = %i, epsilon = %.5f, epoch = %i\" % (len(exp_replay), agent.epsilon,i//50000))\n",
    "\n",
    "            plt.subplot(1, 2, 1)\n",
    "            plt.title(\"mean reward per game\")\n",
    "            plt.plot(mean_rw_history)\n",
    "            plt.grid()\n",
    "\n",
    "            assert not np.isnan(loss_t)\n",
    "            plt.figure(figsize=[12, 4])\n",
    "            plt.subplot(1, 2, 2)\n",
    "            plt.title(\"TD loss history (moving average)\")\n",
    "            plt.plot(moving_average(np.array(td_loss_history), span=100, min_periods=100))\n",
    "            plt.grid()\n",
    "            plt.show()\n",
    "            \n",
    "    agent.model.save_weights(os.path.join(ABS_PATH,f'agent_model_weights_step:{step}_date:{date_stamp}.h5'))\n",
    "    target_network.model.save_weights(os.path.join(ABS_PATH,f'target_model_weights_step:{step}_date:{date_stamp}.h5'))\n"
   ]
  },
  {
   "cell_type": "code",
   "execution_count": 53,
   "metadata": {},
   "outputs": [
    {
     "data": {
      "text/plain": [
       "Text(0, 0.5, 'reward')"
      ]
     },
     "execution_count": 53,
     "metadata": {},
     "output_type": "execute_result"
    },
    {
     "data": {
      "image/png": "[encoded data removed]",
      "text/plain": [
       "<Figure size 432x288 with 1 Axes>"
      ]
     },
     "metadata": {
      "needs_background": "light"
     },
     "output_type": "display_data"
    }
   ],
   "source": [
    "result = [np.mean(mean_rw_history[i:i+100]) for i in range(0,len(mean_rw_history),100)]\n",
    "plt.plot(result,'o-')\n",
    "plt.title('Performance per epoch')\n",
    "plt.xlabel('epoch')\n",
    "plt.ylabel('reward')"
   ]
  },
  {
   "cell_type": "markdown",
   "metadata": {
    "id": "0fU4TqzJ8gqX"
   },
   "source": [
    "# Visualization of playing"
   ]
  },
  {
   "cell_type": "code",
   "execution_count": 3,
   "metadata": {
    "executionInfo": {
     "elapsed": 26445,
     "status": "aborted",
     "timestamp": 1601218375055,
     "user": {
      "displayName": "Volodymyr Kovenko",
      "photoUrl": "https://lh3.googleusercontent.com/a-/AOh14GjwWtSvcYunIucBoA_BTncgIYK9g7Qmx2G7DYfUMA=s64",
      "userId": "07628594889993971076"
     },
     "user_tz": -180
    },
    "id": "GBEnDqRO8gqY"
   },
   "outputs": [
    {
     "ename": "NameError",
     "evalue": "name 'agent' is not defined",
     "output_type": "error",
     "traceback": [
      "\u001b[0;31m---------------------------------------------------------------------------\u001b[0m",
      "\u001b[0;31mNameError\u001b[0m                                 Traceback (most recent call last)",
      "\u001b[0;32m<ipython-input-3-ac6faba469ab>\u001b[0m in \u001b[0;36m<module>\u001b[0;34m\u001b[0m\n\u001b[0;32m----> 1\u001b[0;31m \u001b[0magent\u001b[0m\u001b[0;34m.\u001b[0m\u001b[0mepsilon\u001b[0m \u001b[0;34m=\u001b[0m \u001b[0;36m0.003\u001b[0m\u001b[0;34m\u001b[0m\u001b[0;34m\u001b[0m\u001b[0m\n\u001b[0m",
      "\u001b[0;31mNameError\u001b[0m: name 'agent' is not defined"
     ]
    }
   ],
   "source": [
    "agent.epsilon = 0.003"
   ]
  },
  {
   "cell_type": "code",
   "execution_count": 55,
   "metadata": {},
   "outputs": [],
   "source": [
    "from IPython.core import display"
   ]
  },
  {
   "cell_type": "code",
   "execution_count": 56,
   "metadata": {},
   "outputs": [],
   "source": [
    "\n",
    "def show_state(env, step=0, info=\"\"):\n",
    "    plt.figure(3)\n",
    "    plt.clf()\n",
    "    plt.imshow(env.render(mode='rgb_array'))\n",
    "    plt.title(\"Step: %d %s\" % (step, info))\n",
    "    plt.axis('off')\n",
    "\n",
    "    display.clear_output(wait=True)\n",
    "    display.display(plt.gcf())"
   ]
  },
  {
   "cell_type": "code",
   "execution_count": 58,
   "metadata": {
    "executionInfo": {
     "elapsed": 26430,
     "status": "aborted",
     "timestamp": 1601218375055,
     "user": {
      "displayName": "Volodymyr Kovenko",
      "photoUrl": "https://lh3.googleusercontent.com/a-/AOh14GjwWtSvcYunIucBoA_BTncgIYK9g7Qmx2G7DYfUMA=s64",
      "userId": "07628594889993971076"
     },
     "user_tz": -180
    },
    "id": "TDAjxa528gqc"
   },
   "outputs": [
    {
     "name": "stdout",
     "output_type": "stream",
     "text": [
      "Sum of rewards : 37.0\n"
     ]
    },
    {
     "data": {
      "image/png": "[encoded data removed]",
      "text/plain": [
       "<Figure size 432x288 with 1 Axes>"
      ]
     },
     "metadata": {
      "needs_background": "light"
     },
     "output_type": "display_data"
    }
   ],
   "source": [
    "env = make_env()\n",
    "steps = 10000\n",
    "s = env.reset()\n",
    "rewards = 0\n",
    "last_info = None\n",
    "for t in range(steps):\n",
    "    show_state(env,t)\n",
    "    env.render()\n",
    "    qvalues = agent.get_qvalues([s])\n",
    "    a = agent.sample_actions(qvalues)[0]\n",
    "    next_s, r, done, info = env.step(a)\n",
    "    if (last_info is not None and last_info['ale.lives'] > info['ale.lives'] ):\n",
    "        done = True\n",
    "    rewards+=r\n",
    "    s = next_s\n",
    "    if done:\n",
    "        print(\"Episode finished after {} timesteps\".format(t+1))\n",
    "        break\n",
    "env.close()\n",
    "display.clear_output(wait=True)\n",
    "print(\"Sum of rewards : {}\".format(rewards))"
   ]
  },
  {
   "cell_type": "code",
   "execution_count": null,
   "metadata": {},
   "outputs": [],
   "source": []
  },
  {
   "cell_type": "code",
   "execution_count": null,
   "metadata": {},
   "outputs": [],
   "source": []
  }
 ],
 "metadata": {
  "accelerator": "GPU",
  "colab": {
   "collapsed_sections": [],
   "name": "Копия блокнота \"dqn_atari.ipynb\"",
   "provenance": [
    {
     "file_id": "https://github.com/yandexdataschool/Practical_RL/blob/coursera/week4_approx/dqn_atari.ipynb",
     "timestamp": 1601153279803
    }
   ]
  },
  "kernelspec": {
   "display_name": "Python 3",
   "language": "python",
   "name": "python3"
  },
  "language_info": {
   "codemirror_mode": {
    "name": "ipython",
    "version": 3
   },
   "file_extension": ".py",
   "mimetype": "text/x-python",
   "name": "python",
   "nbconvert_exporter": "python",
   "pygments_lexer": "ipython3",
   "version": "3.7.5"
  }
 },
 "nbformat": 4,
 "nbformat_minor": 1
}

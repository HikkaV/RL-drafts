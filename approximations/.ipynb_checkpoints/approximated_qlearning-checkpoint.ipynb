{
 "cells": [
  {
   "cell_type": "code",
   "execution_count": 1,
   "metadata": {},
   "outputs": [],
   "source": [
    "import gym\n",
    "import numpy as np\n",
    "import pandas as pd\n",
    "import matplotlib.pyplot as plt\n",
    "import seaborn as sns\n",
    "%matplotlib inline\n"
   ]
  },
  {
   "cell_type": "code",
   "execution_count": 2,
   "metadata": {},
   "outputs": [
    {
     "name": "stdout",
     "output_type": "stream",
     "text": [
      "\n",
      "    Description:\n",
      "        A pole is attached by an un-actuated joint to a cart, which moves along\n",
      "        a frictionless track. The pendulum starts upright, and the goal is to\n",
      "        prevent it from falling over by increasing and reducing the cart's\n",
      "        velocity.\n",
      "\n",
      "    Source:\n",
      "        This environment corresponds to the version of the cart-pole problem\n",
      "        described by Barto, Sutton, and Anderson\n",
      "\n",
      "    Observation:\n",
      "        Type: Box(4)\n",
      "        Num\tObservation               Min             Max\n",
      "        0\tCart Position             -4.8            4.8\n",
      "        1\tCart Velocity             -Inf            Inf\n",
      "        2\tPole Angle                -24 deg         24 deg\n",
      "        3\tPole Velocity At Tip      -Inf            Inf\n",
      "\n",
      "    Actions:\n",
      "        Type: Discrete(2)\n",
      "        Num\tAction\n",
      "        0\tPush cart to the left\n",
      "        1\tPush cart to the right\n",
      "\n",
      "        Note: The amount the velocity that is reduced or increased is not\n",
      "        fixed; it depends on the angle the pole is pointing. This is because\n",
      "        the center of gravity of the pole increases the amount of energy needed\n",
      "        to move the cart underneath it\n",
      "\n",
      "    Reward:\n",
      "        Reward is 1 for every step taken, including the termination step\n",
      "\n",
      "    Starting State:\n",
      "        All observations are assigned a uniform random value in [-0.05..0.05]\n",
      "\n",
      "    Episode Termination:\n",
      "        Pole Angle is more than 12 degrees.\n",
      "        Cart Position is more than 2.4 (center of the cart reaches the edge of\n",
      "        the display).\n",
      "        Episode length is greater than 200.\n",
      "        Solved Requirements:\n",
      "        Considered solved when the average reward is greater than or equal to\n",
      "        195.0 over 100 consecutive trials.\n",
      "    \n"
     ]
    },
    {
     "data": {
      "image/png": "[encoded data removed]",
      "text/plain": [
       "<Figure size 432x288 with 1 Axes>"
      ]
     },
     "metadata": {
      "needs_background": "light"
     },
     "output_type": "display_data"
    }
   ],
   "source": [
    "env = gym.make(\"CartPole-v0\").env\n",
    "env.reset()\n",
    "n_actions = env.action_space.n\n",
    "state_dim = env.observation_space.shape\n",
    "\n",
    "plt.imshow(env.render(\"rgb_array\"))\n",
    "print(env.__doc__)"
   ]
  },
  {
   "cell_type": "markdown",
   "metadata": {},
   "source": [
    "# Creating NN "
   ]
  },
  {
   "cell_type": "code",
   "execution_count": 3,
   "metadata": {},
   "outputs": [],
   "source": [
    "import tensorflow as tf\n",
    "import tensorflow.keras.layers as L\n",
    "from tensorflow.keras.models import Sequential"
   ]
  },
  {
   "cell_type": "code",
   "execution_count": 4,
   "metadata": {},
   "outputs": [],
   "source": [
    "class ApproximateQlearning:\n",
    "    def __init__(self, state_dim, n_actions, epsilon=0.9, gamma=0.9,\n",
    "                eta=1e-4):\n",
    "        self.state_dim = state_dim\n",
    "        self.n_actions = n_actions\n",
    "        self.epsilon = epsilon\n",
    "        self.gamma = gamma\n",
    "        self.eta = eta\n",
    "        self.model, self.sess = self.make_model()\n",
    "        self.initiate_placeholders()\n",
    "        self.train_step = self.make_graph()\n",
    "        self.sess.run(tf.global_variables_initializer())\n",
    "        \n",
    "    def make_model(self):\n",
    "        tf.reset_default_graph()\n",
    "        sess = tf.InteractiveSession()\n",
    "        tf.keras.backend.set_session(sess)\n",
    "        model = Sequential([L.InputLayer(state_dim),\n",
    "                   L.Dense(200,activation='relu'),\n",
    "                   L.Dense(100, activation='relu'),\n",
    "                   L.Dense(self.n_actions)])\n",
    "        return model, sess\n",
    "    \n",
    "    def initiate_placeholders(self):\n",
    "        self.states_ph = tf.keras.backend.placeholder(dtype='float32', shape=(None,) + self.state_dim)\n",
    "        self.actions_ph = tf.keras.backend.placeholder(dtype='int32', shape=[None])\n",
    "        self.rewards_ph = tf.keras.backend.placeholder(dtype='float32', shape=[None])\n",
    "        self.next_states_ph = tf.keras.backend.placeholder(dtype='float32', shape=(None,) + self.state_dim)\n",
    "        self.is_done_ph = tf.keras.backend.placeholder(dtype='bool', shape=[None])\n",
    "    \n",
    "    def argmax(self,q_table):\n",
    "        max_value = np.max(q_table)\n",
    "        idxs = np.where(q_table==max_value)[0]\n",
    "        if idxs.shape[0]>1:\n",
    "            return np.random.choice(idxs)\n",
    "        else:\n",
    "            return np.argmax(q_table)\n",
    "        \n",
    "    def get_action(self, state):\n",
    "        q_values = self.model.predict(state[None])[0]\n",
    "    \n",
    "        if np.random.rand()<self.epsilon:\n",
    "              action = np.random.choice(n_actions)\n",
    "        else:\n",
    "              action = self.argmax(q_values)\n",
    "\n",
    "        return action\n",
    "    \n",
    "    def make_graph(self):\n",
    "        predicted_qvalues = self.model(self.states_ph)\n",
    "        predicted_qvalues_for_actions = tf.reduce_sum(predicted_qvalues * tf.one_hot(self.actions_ph, self.n_actions), \n",
    "                                                      axis=1)\n",
    "        predicted_next_qvalues = self.model(self.next_states_ph)\n",
    "        next_state_values = tf.reduce_max(predicted_next_qvalues,axis=1)\n",
    "        target_qvalues_for_actions = self.rewards_ph+self.gamma*next_state_values\n",
    "        target_qvalues_for_actions = tf.where(self.is_done_ph, self.rewards_ph, target_qvalues_for_actions)\n",
    "        loss = (predicted_qvalues_for_actions - tf.stop_gradient(target_qvalues_for_actions)) ** 2\n",
    "        loss = tf.reduce_mean(loss)\n",
    "        return tf.train.AdamOptimizer(self.eta).minimize(loss)\n",
    "    \n",
    "    def update(self,s,a,r,next_s,done):\n",
    "        self.sess.run(self.train_step,{\n",
    "                self.states_ph: [s], self.actions_ph: [a], self.rewards_ph: [r], \n",
    "                self.next_states_ph: [next_s], self.is_done_ph: [done]\n",
    "            })\n",
    "        \n",
    "        "
   ]
  },
  {
   "cell_type": "code",
   "execution_count": 5,
   "metadata": {},
   "outputs": [],
   "source": [
    "epsilon=0.5 \n",
    "gamma=0.99\n",
    "eta=1e-4"
   ]
  },
  {
   "cell_type": "code",
   "execution_count": 6,
   "metadata": {},
   "outputs": [
    {
     "name": "stdout",
     "output_type": "stream",
     "text": [
      "WARNING:tensorflow:From /Users/volodymyrkovenko/envs/rl_env/lib/python3.7/site-packages/tensorflow_core/python/ops/resource_variable_ops.py:1630: calling BaseResourceVariable.__init__ (from tensorflow.python.ops.resource_variable_ops) with constraint is deprecated and will be removed in a future version.\n",
      "Instructions for updating:\n",
      "If using Keras pass *_constraint arguments to layers.\n",
      "WARNING:tensorflow:From <ipython-input-4-5cfd22df9210>:56: where (from tensorflow.python.ops.array_ops) is deprecated and will be removed in a future version.\n",
      "Instructions for updating:\n",
      "Use tf.where in 2.0, which has the same broadcast rule as np.where\n"
     ]
    }
   ],
   "source": [
    "agent = ApproximateQlearning(state_dim,n_actions,\n",
    "                            epsilon=epsilon, gamma=gamma, eta=eta)"
   ]
  },
  {
   "cell_type": "markdown",
   "metadata": {},
   "source": [
    "# Training on cartpole env"
   ]
  },
  {
   "cell_type": "code",
   "execution_count": 7,
   "metadata": {},
   "outputs": [],
   "source": [
    "def generate_session(agent, env, train=False, t_max=1000):\n",
    "    \"\"\"play env with approximate q-learning agent and train it at the same time\"\"\"\n",
    "    total_reward = 0\n",
    "    s = env.reset()\n",
    "    \n",
    "    for t in range(t_max):\n",
    "        a = agent.get_action(s)       \n",
    "        next_s, r, done, _ = env.step(a)\n",
    "        if train:\n",
    "            agent.update(s,a,r,next_s,done)\n",
    "        total_reward += r\n",
    "        s = next_s\n",
    "        if done:\n",
    "            break\n",
    "            \n",
    "    return total_reward"
   ]
  },
  {
   "cell_type": "code",
   "execution_count": 8,
   "metadata": {},
   "outputs": [],
   "source": [
    "def train(agent, env, epochs=1000,episodes=100,\n",
    "         epsilon_decay=True):\n",
    "    for i in range(epochs):\n",
    "        session_rewards = [generate_session(agent, env, train = True) for _ in range(episodes)]\n",
    "        print(\"epoch #{}\\tmean reward = {:.3f}\\tepsilon = {:.3f}\".format(i, np.mean(session_rewards), agent.epsilon))\n",
    "        if epsilon_decay:\n",
    "            agent.epsilon *= 0.99\n",
    "        assert epsilon >= 1e-4, \"Make sure epsilon is always nonzero during training\"\n",
    "\n",
    "        if np.mean(session_rewards) > 300:\n",
    "            print(\"You Win!\")\n",
    "            break"
   ]
  },
  {
   "cell_type": "code",
   "execution_count": 9,
   "metadata": {},
   "outputs": [
    {
     "name": "stdout",
     "output_type": "stream",
     "text": [
      "epoch #0\tmean reward = 14.610\tepsilon = 0.500\n",
      "epoch #1\tmean reward = 14.880\tepsilon = 0.495\n",
      "epoch #2\tmean reward = 13.520\tepsilon = 0.490\n",
      "epoch #3\tmean reward = 15.300\tepsilon = 0.485\n",
      "epoch #4\tmean reward = 13.820\tepsilon = 0.480\n",
      "epoch #5\tmean reward = 15.570\tepsilon = 0.475\n",
      "epoch #6\tmean reward = 16.100\tepsilon = 0.471\n",
      "epoch #7\tmean reward = 18.370\tepsilon = 0.466\n",
      "epoch #8\tmean reward = 26.640\tepsilon = 0.461\n",
      "epoch #9\tmean reward = 41.120\tepsilon = 0.457\n",
      "epoch #10\tmean reward = 52.230\tepsilon = 0.452\n",
      "epoch #11\tmean reward = 53.950\tepsilon = 0.448\n",
      "epoch #12\tmean reward = 57.650\tepsilon = 0.443\n",
      "epoch #13\tmean reward = 81.040\tepsilon = 0.439\n",
      "epoch #14\tmean reward = 95.630\tepsilon = 0.434\n",
      "epoch #15\tmean reward = 107.400\tepsilon = 0.430\n",
      "epoch #16\tmean reward = 161.080\tepsilon = 0.426\n",
      "epoch #17\tmean reward = 150.970\tepsilon = 0.421\n",
      "epoch #18\tmean reward = 159.820\tepsilon = 0.417\n",
      "epoch #19\tmean reward = 205.860\tepsilon = 0.413\n",
      "epoch #20\tmean reward = 219.820\tepsilon = 0.409\n",
      "epoch #21\tmean reward = 209.520\tepsilon = 0.405\n",
      "epoch #22\tmean reward = 255.690\tepsilon = 0.401\n",
      "epoch #23\tmean reward = 298.370\tepsilon = 0.397\n",
      "epoch #24\tmean reward = 431.290\tepsilon = 0.393\n",
      "You Win!\n"
     ]
    }
   ],
   "source": [
    "train(agent,env)"
   ]
  },
  {
   "cell_type": "markdown",
   "metadata": {},
   "source": [
    "# Showing how agent performs"
   ]
  },
  {
   "cell_type": "code",
   "execution_count": 10,
   "metadata": {},
   "outputs": [],
   "source": [
    "from IPython import display\n"
   ]
  },
  {
   "cell_type": "code",
   "execution_count": 11,
   "metadata": {},
   "outputs": [],
   "source": [
    "def show_state(env, step=0, info=\"\"):\n",
    "    plt.figure(3)\n",
    "    plt.clf()\n",
    "    plt.imshow(env.render(mode='rgb_array'))\n",
    "    plt.title(\"Step: %d %s\" % (step, info))\n",
    "    plt.axis('off')\n",
    "\n",
    "    display.clear_output(wait=True)\n",
    "    display.display(plt.gcf())"
   ]
  },
  {
   "cell_type": "code",
   "execution_count": 12,
   "metadata": {},
   "outputs": [
    {
     "name": "stdout",
     "output_type": "stream",
     "text": [
      "Sum of rewards : 50.0\n"
     ]
    },
    {
     "data": {
      "image/png": "[encoded data removed]",
      "text/plain": [
       "<Figure size 432x288 with 1 Axes>"
      ]
     },
     "metadata": {
      "needs_background": "light"
     },
     "output_type": "display_data"
    }
   ],
   "source": [
    "env = gym.make('CartPole-v0')\n",
    "steps = 50\n",
    "s = env.reset()\n",
    "rewards = 0\n",
    "for t in range(steps):\n",
    "    show_state(env,t)\n",
    "    env.render()\n",
    "    a = agent.get_action(s)\n",
    "    next_s, r, done, _ = env.step(a)\n",
    "    rewards+=r\n",
    "    s = next_s\n",
    "    if done:\n",
    "        print(\"Episode finished after {} timesteps\".format(t+1))\n",
    "        break\n",
    "env.close()\n",
    "display.clear_output(wait=True)\n",
    "print(\"Sum of rewards : {}\".format(rewards))"
   ]
  }
 ],
 "metadata": {
  "kernelspec": {
   "display_name": "Python 3",
   "language": "python",
   "name": "python3"
  },
  "language_info": {
   "codemirror_mode": {
    "name": "ipython",
    "version": 3
   },
   "file_extension": ".py",
   "mimetype": "text/x-python",
   "name": "python",
   "nbconvert_exporter": "python",
   "pygments_lexer": "ipython3",
   "version": "3.7.6"
  }
 },
 "nbformat": 4,
 "nbformat_minor": 4
}

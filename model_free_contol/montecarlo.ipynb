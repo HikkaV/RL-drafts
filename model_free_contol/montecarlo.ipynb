{
 "cells": [
  {
   "cell_type": "code",
   "execution_count": 1,
   "metadata": {},
   "outputs": [],
   "source": [
    "import gym\n",
    "import gym.envs.toy_text\n",
    "import numpy as np\n",
    "from IPython.display import clear_output\n",
    "import matplotlib.pyplot as plt\n",
    "import seaborn as sns\n",
    "import pandas as pd\n",
    "sns.set()"
   ]
  },
  {
   "cell_type": "code",
   "execution_count": 2,
   "metadata": {},
   "outputs": [],
   "source": [
    "env = gym.envs.toy_text.CliffWalkingEnv()"
   ]
  },
  {
   "cell_type": "code",
   "execution_count": 3,
   "metadata": {},
   "outputs": [
    {
     "name": "stdout",
     "output_type": "stream",
     "text": [
      "o  o  o  o  o  o  o  o  o  o  o  o\n",
      "o  o  o  o  o  o  o  o  o  o  o  o\n",
      "o  o  o  o  o  o  o  o  o  o  o  o\n",
      "x  C  C  C  C  C  C  C  C  C  C  T\n",
      "\n"
     ]
    }
   ],
   "source": [
    "env.render()"
   ]
  },
  {
   "cell_type": "code",
   "execution_count": 4,
   "metadata": {},
   "outputs": [
    {
     "name": "stdout",
     "output_type": "stream",
     "text": [
      "\n",
      "    This is a simple implementation of the Gridworld Cliff\n",
      "    reinforcement learning task.\n",
      "\n",
      "    Adapted from Example 6.6 (page 106) from Reinforcement Learning: An Introduction\n",
      "    by Sutton and Barto:\n",
      "    http://incompleteideas.net/book/bookdraft2018jan1.pdf\n",
      "\n",
      "    With inspiration from:\n",
      "    https://github.com/dennybritz/reinforcement-learning/blob/master/lib/envs/cliff_walking.py\n",
      "\n",
      "    The board is a 4x12 matrix, with (using Numpy matrix indexing):\n",
      "        [3, 0] as the start at bottom-left\n",
      "        [3, 11] as the goal at bottom-right\n",
      "        [3, 1..10] as the cliff at bottom-center\n",
      "\n",
      "    Each time step incurs -1 reward, and stepping into the cliff incurs -100 reward\n",
      "    and a reset to the start. An episode terminates when the agent reaches the goal.\n",
      "    \n"
     ]
    }
   ],
   "source": [
    "print(env.__doc__)"
   ]
  },
  {
   "cell_type": "code",
   "execution_count": 5,
   "metadata": {},
   "outputs": [
    {
     "name": "stdout",
     "output_type": "stream",
     "text": [
      "Number of actions : 4\n",
      "Number of states : 48\n"
     ]
    }
   ],
   "source": [
    "n_actions = env.action_space.n\n",
    "n_states = env.observation_space.n\n",
    "print(f'Number of actions : {n_actions}')\n",
    "print(f'Number of states : {n_states}')"
   ]
  },
  {
   "cell_type": "markdown",
   "metadata": {},
   "source": [
    "# Creating an agent"
   ]
  },
  {
   "cell_type": "code",
   "execution_count": 55,
   "metadata": {},
   "outputs": [],
   "source": [
    "class MonteCarloAgent:\n",
    "    def __init__(self, n_actions, n_states, epsilon=1,\n",
    "                exploring_starts=False):\n",
    "        self.n_actions = n_actions\n",
    "        if exploring_starts:\n",
    "            self.q_table = np.full(shape=(n_states,n_actions),fill_value=5)\n",
    "            self.epsilon = 0\n",
    "        else:\n",
    "            self.q_table = np.zeros(shape=(n_states,n_actions))\n",
    "            self.epsilon = epsilon\n",
    "        self.frequency_table = np.zeros(shape=(n_states,n_actions))\n",
    "        \n",
    "    \n",
    "    def argmax(self,q_table):\n",
    "        max_value = np.max(q_table)\n",
    "        idxs = np.where(q_table==max_value)[0]\n",
    "        if idxs.shape[0]>1:\n",
    "            return np.random.choice(idxs)\n",
    "        else:\n",
    "            print('made argmax')\n",
    "            return np.argmax(q_table)\n",
    "    \n",
    "    def get_action(self,state):\n",
    "        if np.random.rand()<self.epsilon:\n",
    "            action = np.random.choice(range(self.n_actions))\n",
    "        else:\n",
    "            action = np.argmax(self.q_table[state])\n",
    "        return action\n",
    "        \n",
    "    \n",
    "    def update(self, state, action, discounted_return):\n",
    "        self.frequency_table[state,action]+=1\n",
    "        self.q_table[state,action]+=(1/self.frequency_table[state,action])*(discounted_return-self.q_table[state,action])\n",
    "        "
   ]
  },
  {
   "cell_type": "markdown",
   "metadata": {},
   "source": [
    "# Training an agent"
   ]
  },
  {
   "cell_type": "code",
   "execution_count": 104,
   "metadata": {},
   "outputs": [],
   "source": [
    "agent = MonteCarloAgent(n_actions,n_states,exploring_starts=False,epsilon=0.15)"
   ]
  },
  {
   "cell_type": "code",
   "execution_count": 105,
   "metadata": {},
   "outputs": [],
   "source": [
    "def moving_average(x, span=100):\n",
    "    return pd.DataFrame({'x': np.asarray(x)}).x.ewm(span=span).mean().values\n",
    "\n",
    "def show_progress(reward_per_episode,steps_per_episode):\n",
    "    clear_output(True)\n",
    "    fig, ax = plt.subplots(3,1)\n",
    "    ax[0].plot(reward_per_episode,label='reward per episode')\n",
    "    ax[0].legend()\n",
    "    ax[0].set_ylim(-1000,0)\n",
    "    ax[1].plot(steps_per_episode, label = 'steps per episode')\n",
    "    ax[1].legend()\n",
    "    ax[2].plot(moving_average(reward_per_episode), label='moving reward')\n",
    "    ax[2].legend()\n",
    "    ax[2].set_ylim(-1000, 0)\n",
    "    fig.tight_layout() \n",
    "    plt.show()\n",
    "    \n",
    "def generate_episode(agent,env, t_max=10**4, render=False):\n",
    "    s = env.reset()\n",
    "    states = []\n",
    "    actions = []\n",
    "    rewards = []\n",
    "    steps = 0\n",
    "    for t in range(t_max):\n",
    "        a = agent.get_action(s)\n",
    "        new_s, r, done, _ = env.step(a)\n",
    "        actions.append(a)\n",
    "        rewards.append(r)\n",
    "        states.append(s)\n",
    "        s = new_s\n",
    "        if render:\n",
    "            clear_output(True)\n",
    "            env.render()\n",
    "        if done:\n",
    "            break\n",
    "        steps+=1\n",
    "    return states, actions, rewards, steps\n",
    "    \n",
    "\n",
    "def train_loop(env, agent, gamma=1, n_episodes=1000, epsilon_discount=False):\n",
    "    returns = np.zeros(shape=(n_states,n_actions))\n",
    "    reward_per_episode = []\n",
    "    steps_per_episode = []\n",
    "    for episode in range(1,n_episodes+1):\n",
    "        if epsilon_discount:\n",
    "            agent.epsilon*=0.99\n",
    "        states,actions, rewards, steps = generate_episode(agent,env)\n",
    "        reward_per_episode.append(np.sum(rewards))\n",
    "        steps_per_episode.append(steps)\n",
    "        return_from_episode = 0\n",
    "        counter = 0 \n",
    "        for s,a,r in list(zip(states,actions,rewards))[::-1]:\n",
    "            return_from_episode+=r*(gamma**counter)\n",
    "            returns[s,a]+=return_from_episode\n",
    "            agent.update(s,a,returns[s,a])\n",
    "            counter+=1\n",
    "        if episode%100==0:\n",
    "            show_progress(reward_per_episode,steps_per_episode)\n",
    "            print(f'Reward sum : {np.sum(rewards)}')\n",
    "            print(f'Mean reward : {np.mean(reward_per_episode[-100:])}')\n",
    "            print(f'agent.epsilon : {agent.epsilon}')\n",
    "\n",
    "    return agent"
   ]
  },
  {
   "cell_type": "code",
   "execution_count": 106,
   "metadata": {},
   "outputs": [
    {
     "data": {
      "image/png": "[encoded data removed]",
      "text/plain": [
       "<Figure size 432x288 with 3 Axes>"
      ]
     },
     "metadata": {},
     "output_type": "display_data"
    },
    {
     "name": "stdout",
     "output_type": "stream",
     "text": [
      "Reward sum : -17\n",
      "Mean reward : -64.09\n",
      "agent.epsilon : 0.15\n"
     ]
    }
   ],
   "source": [
    "agent = train_loop(env,agent,1,20000, False)"
   ]
  },
  {
   "cell_type": "markdown",
   "metadata": {},
   "source": [
    "# Showing the trajectory learned by agent"
   ]
  },
  {
   "cell_type": "code",
   "execution_count": 114,
   "metadata": {},
   "outputs": [],
   "source": [
    "agent.epsilon = 0"
   ]
  },
  {
   "cell_type": "code",
   "execution_count": 115,
   "metadata": {},
   "outputs": [
    {
     "data": {
      "text/plain": [
       "16"
      ]
     },
     "execution_count": 115,
     "metadata": {},
     "output_type": "execute_result"
    }
   ],
   "source": [
    "states,actions, rewards, steps = generate_episode(agent,env,render=False)\n",
    "steps"
   ]
  },
  {
   "cell_type": "code",
   "execution_count": 116,
   "metadata": {},
   "outputs": [],
   "source": [
    "def draw_policy(env, agent):\n",
    "    \"\"\" Prints CliffWalkingEnv policy with arrows. Hard-coded. \"\"\"\n",
    "    n_rows, n_cols = env._cliff.shape\n",
    "\n",
    "    actions = '^>v<'\n",
    "\n",
    "    for yi in range(n_rows):\n",
    "        for xi in range(n_cols):\n",
    "            if env._cliff[yi, xi]:\n",
    "                print(\" C \", end='')\n",
    "            elif (yi * n_cols + xi) == env.start_state_index:\n",
    "                print(\" X \", end='')\n",
    "            elif (yi * n_cols + xi) == n_rows * n_cols - 1:\n",
    "                print(\" T \", end='')\n",
    "            else:\n",
    "                print(\" %s \" %\n",
    "                      actions[agent.get_action(yi * n_cols + xi)], end='')\n",
    "        print()"
   ]
  },
  {
   "cell_type": "code",
   "execution_count": 117,
   "metadata": {},
   "outputs": [
    {
     "name": "stdout",
     "output_type": "stream",
     "text": [
      " >  >  >  >  >  >  >  >  >  >  >  v \n",
      " ^  v  >  v  >  <  >  >  >  >  v  v \n",
      " ^  >  >  >  ^  v  v  <  >  ^  >  v \n",
      " X  C  C  C  C  C  C  C  C  C  C  T \n"
     ]
    }
   ],
   "source": [
    "draw_policy(env,agent)"
   ]
  },
  {
   "cell_type": "code",
   "execution_count": null,
   "metadata": {},
   "outputs": [],
   "source": []
  }
 ],
 "metadata": {
  "kernelspec": {
   "display_name": "Python 3",
   "language": "python",
   "name": "python3"
  },
  "language_info": {
   "codemirror_mode": {
    "name": "ipython",
    "version": 3
   },
   "file_extension": ".py",
   "mimetype": "text/x-python",
   "name": "python",
   "nbconvert_exporter": "python",
   "pygments_lexer": "ipython3",
   "version": "3.7.6"
  }
 },
 "nbformat": 4,
 "nbformat_minor": 4
}

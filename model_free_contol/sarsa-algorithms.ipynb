{
 "cells": [
  {
   "cell_type": "code",
   "execution_count": 3,
   "metadata": {},
   "outputs": [],
   "source": [
    "import pandas as pd\n",
    "import gym\n",
    "import numpy as no\n",
    "import matplotlib.pyplot as plt\n",
    "from IPython.display import clear_output\n",
    "import seaborn as sns\n",
    "import numpy as np\n",
    "from gym.envs.toy_text import CliffWalkingEnv\n",
    "sns.set()"
   ]
  },
  {
   "cell_type": "code",
   "execution_count": 4,
   "metadata": {},
   "outputs": [],
   "source": [
    "np.random.seed(5)"
   ]
  },
  {
   "cell_type": "code",
   "execution_count": 61,
   "metadata": {},
   "outputs": [],
   "source": [
    "env = CliffWalkingEnv()"
   ]
  },
  {
   "cell_type": "code",
   "execution_count": 62,
   "metadata": {},
   "outputs": [
    {
     "name": "stdout",
     "output_type": "stream",
     "text": [
      "o  o  o  o  o  o  o  o  o  o  o  o\n",
      "o  o  o  o  o  o  o  o  o  o  o  o\n",
      "o  o  o  o  o  o  o  o  o  o  o  o\n",
      "x  C  C  C  C  C  C  C  C  C  C  T\n",
      "\n"
     ]
    }
   ],
   "source": [
    "env.render()"
   ]
  },
  {
   "cell_type": "code",
   "execution_count": 8,
   "metadata": {},
   "outputs": [
    {
     "name": "stdout",
     "output_type": "stream",
     "text": [
      "\n",
      "    This is a simple implementation of the Gridworld Cliff\n",
      "    reinforcement learning task.\n",
      "\n",
      "    Adapted from Example 6.6 (page 106) from Reinforcement Learning: An Introduction\n",
      "    by Sutton and Barto:\n",
      "    http://incompleteideas.net/book/bookdraft2018jan1.pdf\n",
      "\n",
      "    With inspiration from:\n",
      "    https://github.com/dennybritz/reinforcement-learning/blob/master/lib/envs/cliff_walking.py\n",
      "\n",
      "    The board is a 4x12 matrix, with (using Numpy matrix indexing):\n",
      "        [3, 0] as the start at bottom-left\n",
      "        [3, 11] as the goal at bottom-right\n",
      "        [3, 1..10] as the cliff at bottom-center\n",
      "\n",
      "    Each time step incurs -1 reward, and stepping into the cliff incurs -100 reward\n",
      "    and a reset to the start. An episode terminates when the agent reaches the goal.\n",
      "    \n",
      "None\n"
     ]
    }
   ],
   "source": [
    "print(env.__doc__)"
   ]
  },
  {
   "cell_type": "markdown",
   "metadata": {},
   "source": [
    "# Creating agents"
   ]
  },
  {
   "cell_type": "code",
   "execution_count": 9,
   "metadata": {},
   "outputs": [],
   "source": [
    "class Sarsa:\n",
    "    def __init__(self, n_actions, n_states, epsilon=0.5, gamma=0.8, eta=0.5):\n",
    "        self.n_actions = n_actions\n",
    "        self.q_table = np.zeros(shape=(n_states,n_actions))\n",
    "        self.epsilon = epsilon\n",
    "        self.gamma = gamma\n",
    "        self.eta = eta\n",
    "    \n",
    "    def argmax(self,q_table):\n",
    "        max_value = np.max(q_table)\n",
    "        idxs = np.where(q_table==max_value)[0]\n",
    "        if idxs.shape[0]>1:\n",
    "            return np.random.choice(idxs)\n",
    "        else:\n",
    "            print('made argmax')\n",
    "            return np.argmax(q_table)\n",
    "    \n",
    "    def get_action(self,state):\n",
    "        if np.random.rand()<self.epsilon:\n",
    "            action = np.random.choice(range(self.n_actions))\n",
    "        else:\n",
    "            action = np.argmax(self.q_table[state])\n",
    "        return action\n",
    "    \n",
    "    def update(self, state, action, next_state, next_action, reward):\n",
    "        self.q_table[state,action]+=self.eta*(reward+self.gamma*self.q_table[next_state,next_action]-self.q_table[state,action])\n",
    "        \n",
    "        "
   ]
  },
  {
   "cell_type": "code",
   "execution_count": 10,
   "metadata": {},
   "outputs": [],
   "source": [
    "class ExpectedSarsa(Sarsa):\n",
    "    def update(self, state, action, next_state, reward):\n",
    "        value = np.sum(self.q_table[next_state]/self.n_actions)\n",
    "        self.q_table[state,action]+=self.eta*(reward+self.gamma*value-self.q_table[state,action])"
   ]
  },
  {
   "cell_type": "code",
   "execution_count": 11,
   "metadata": {},
   "outputs": [],
   "source": [
    "class LamdaSarsa(Sarsa):\n",
    "    def __init__(self,n_actions, n_states, epsilon=0.5, gamma=0.8, eta=0.5, lambda_param=0.5):\n",
    "        super().__init__(n_actions, n_states, epsilon, gamma, eta)\n",
    "        self.es_table = np.zeros(shape=(n_states,n_actions))\n",
    "        self.lambda_param = lambda_param\n",
    "    \n",
    "    def update(self,state,action,next_state,next_action,reward):\n",
    "        td_error = reward+self.gamma*self.q_table[next_state,next_action]-self.q_table[state,action]\n",
    "        self.es_table[state,action]+=1\n",
    "        self.q_table+=self.eta*td_error*self.es_table\n",
    "        self.es_table*=(self.lambda_param*self.gamma)\n",
    "        "
   ]
  },
  {
   "cell_type": "markdown",
   "metadata": {},
   "source": [
    "# Training agents "
   ]
  },
  {
   "cell_type": "code",
   "execution_count": 12,
   "metadata": {},
   "outputs": [],
   "source": [
    "def moving_average(x, span=100):\n",
    "    return pd.DataFrame({'x': np.asarray(x)}).x.ewm(span=span).mean().values\n",
    "\n",
    "def show_progress(reward_per_episode,steps_per_episode):\n",
    "    clear_output(True)\n",
    "    fig, ax = plt.subplots(3,1)\n",
    "    ax[0].plot(reward_per_episode,label='reward per episode')\n",
    "    ax[0].legend()\n",
    "    ax[0].set_ylim(-100,100)\n",
    "    ax[1].plot(steps_per_episode, label = 'steps per episode')\n",
    "    ax[1].legend()\n",
    "    ax[2].plot(moving_average(reward_per_episode), label='moving reward')\n",
    "    ax[2].legend()\n",
    "    ax[2].set_ylim(-100, 100)\n",
    "    fig.tight_layout() \n",
    "    plt.show()\n",
    "    \n",
    "def train_and_play_exp_sarsa(agent, env, t_max=10**4, render=False):\n",
    "    s = env.reset()\n",
    "    rewards = []\n",
    "    steps = 0\n",
    "    for t in range(t_max):\n",
    "        a = agent.get_action(s)\n",
    "        new_s, r, done, _ = env.step(a)\n",
    "        rewards.append(r)\n",
    "        agent.update(s,a,new_s,r)\n",
    "        s = new_s\n",
    "        if render:\n",
    "            clear_output(True)\n",
    "            env.render()\n",
    "        if done:\n",
    "            break\n",
    "        steps+=1\n",
    "    return  agent, rewards, steps\n",
    "    \n",
    "def train_and_play(agent, env, t_max=10**4, render=False):\n",
    "    s = env.reset()\n",
    "    a = agent.get_action(s)\n",
    "    rewards = []\n",
    "    steps = 0\n",
    "    for t in range(t_max):\n",
    "        new_s, r, done, _ = env.step(a)\n",
    "        new_a = agent.get_action(s)\n",
    "        rewards.append(r)\n",
    "        agent.update(s,a,new_s,new_a,r)\n",
    "        s = new_s\n",
    "        a = new_a\n",
    "        if render:\n",
    "            clear_output(True)\n",
    "            env.render()\n",
    "        if done:\n",
    "            break\n",
    "        steps+=1\n",
    "    return  agent, rewards, steps\n",
    "    \n",
    "    \n",
    "def train_loop(env, agent, n_episodes=1000, epsilon_discount=False,\n",
    "              per_episode=100, exp_sarsa=False):\n",
    "    reward_per_episode = []\n",
    "    steps_per_episode = []\n",
    "    if epsilon_discount:\n",
    "        agent.epsilon = 1\n",
    "    for episode in range(1,n_episodes+1):\n",
    "        if hasattr(agent,'es_table'):\n",
    "            agent.es_table = np.zeros(shape=agent.es_table.shape)\n",
    "        if epsilon_discount:\n",
    "            agent.epsilon*=0.999\n",
    "        if exp_sarsa:\n",
    "            agent, rewards, steps = train_and_play_exp_sarsa(agent, env)\n",
    "        else:\n",
    "            agent, rewards, steps = train_and_play(agent, env)\n",
    "        reward_per_episode.append(np.sum(rewards))\n",
    "        steps_per_episode.append(steps) \n",
    "        if episode%per_episode==0:\n",
    "            show_progress(reward_per_episode,steps_per_episode)\n",
    "            print(f'Reward sum : {np.sum(rewards)}')\n",
    "            print(f'Mean reward : {np.mean(reward_per_episode[-100:])}')\n",
    "            print(f'agent.epsilon : {agent.epsilon}')\n",
    "\n",
    "    return agent"
   ]
  },
  {
   "cell_type": "markdown",
   "metadata": {},
   "source": [
    "## Training on the CliffWorld"
   ]
  },
  {
   "cell_type": "code",
   "execution_count": 13,
   "metadata": {},
   "outputs": [],
   "source": [
    "n_actions = env1.action_space.n\n",
    "n_states = env1.observation_space.n"
   ]
  },
  {
   "cell_type": "code",
   "execution_count": 14,
   "metadata": {},
   "outputs": [],
   "source": [
    "episodes = 5000"
   ]
  },
  {
   "cell_type": "markdown",
   "metadata": {},
   "source": [
    "### Expected sarsa algorithm"
   ]
  },
  {
   "cell_type": "code",
   "execution_count": 15,
   "metadata": {},
   "outputs": [],
   "source": [
    "expected_sarsa_params = {'epsilon' : 0.2,\n",
    "                'gamma' : 0.99, \n",
    "                'eta' : 0.25,\n",
    "                'epsilon_discount' : False\n",
    "               }"
   ]
  },
  {
   "cell_type": "code",
   "execution_count": 16,
   "metadata": {},
   "outputs": [],
   "source": [
    "exp_sarsa_agent = ExpectedSarsa(n_actions, n_states, expected_sarsa_params['epsilon'], expected_sarsa_params['gamma'], expected_sarsa_params['eta'])"
   ]
  },
  {
   "cell_type": "code",
   "execution_count": 17,
   "metadata": {},
   "outputs": [
    {
     "data": {
      "image/png": "[encoded data removed]",
      "text/plain": [
       "<Figure size 432x288 with 3 Axes>"
      ]
     },
     "metadata": {},
     "output_type": "display_data"
    },
    {
     "name": "stdout",
     "output_type": "stream",
     "text": [
      "Reward sum : -24\n",
      "Mean reward : -29.75\n",
      "agent.epsilon : 0.2\n"
     ]
    }
   ],
   "source": [
    "exp_sarsa_agent = train_loop(env1,exp_sarsa_agent,episodes, expected_sarsa_params['epsilon_discount'], 100, exp_sarsa=True)"
   ]
  },
  {
   "cell_type": "markdown",
   "metadata": {},
   "source": [
    "### Sarsa algorithm"
   ]
  },
  {
   "cell_type": "code",
   "execution_count": 55,
   "metadata": {},
   "outputs": [],
   "source": [
    "sarsa_params = {'epsilon' : 0.1,\n",
    "                'gamma' : 0.99, \n",
    "                'eta' : 0.1,\n",
    "                'epsilon_discount' : False\n",
    "               }"
   ]
  },
  {
   "cell_type": "code",
   "execution_count": 58,
   "metadata": {},
   "outputs": [],
   "source": [
    "sarsa_agent = Sarsa(n_actions, n_states, sarsa_params['epsilon'], sarsa_params['gamma'], sarsa_params['eta'])"
   ]
  },
  {
   "cell_type": "code",
   "execution_count": 59,
   "metadata": {},
   "outputs": [
    {
     "data": {
      "image/png": "[encoded data removed]",
      "text/plain": [
       "<Figure size 432x288 with 3 Axes>"
      ]
     },
     "metadata": {},
     "output_type": "display_data"
    },
    {
     "name": "stdout",
     "output_type": "stream",
     "text": [
      "Reward sum : -198\n",
      "Mean reward : -451.09\n",
      "agent.epsilon : 0.1\n"
     ]
    }
   ],
   "source": [
    "sarsa_agent = train_loop(env1,sarsa_agent,10000, sarsa_params['epsilon_discount'])"
   ]
  },
  {
   "cell_type": "markdown",
   "metadata": {},
   "source": [
    "### Sarsa(lambda) algortihm"
   ]
  },
  {
   "cell_type": "code",
   "execution_count": 31,
   "metadata": {},
   "outputs": [],
   "source": [
    "lamba_sarsa_params = {'epsilon' : 0.1,\n",
    "                'gamma' : 0.99, \n",
    "                'eta' : 0.25,\n",
    "                'lambda_param' : 0.4,\n",
    "                'epsilon_discount' : False\n",
    "               }"
   ]
  },
  {
   "cell_type": "code",
   "execution_count": 32,
   "metadata": {},
   "outputs": [],
   "source": [
    "lambda_sarsa_agent = LamdaSarsa(n_actions, n_states, lamba_sarsa_params['epsilon'], lamba_sarsa_params['gamma'], \n",
    "           lamba_sarsa_params['eta'], lamba_sarsa_params['lambda_param'])"
   ]
  },
  {
   "cell_type": "code",
   "execution_count": 33,
   "metadata": {},
   "outputs": [
    {
     "data": {
      "image/png": "[encoded data removed]",
      "text/plain": [
       "<Figure size 432x288 with 3 Axes>"
      ]
     },
     "metadata": {},
     "output_type": "display_data"
    },
    {
     "name": "stdout",
     "output_type": "stream",
     "text": [
      "Reward sum : -19\n",
      "Mean reward : -35.98\n",
      "agent.epsilon : 0.1\n"
     ]
    }
   ],
   "source": [
    "lambda_sarsa_agent = train_loop(env1,lambda_sarsa_agent,episodes, lamba_sarsa_params['epsilon_discount'])"
   ]
  },
  {
   "cell_type": "markdown",
   "metadata": {},
   "source": [
    "### Showing trajectories"
   ]
  },
  {
   "cell_type": "code",
   "execution_count": 27,
   "metadata": {},
   "outputs": [],
   "source": [
    "def draw_policy(env, agent):\n",
    "    \"\"\" Prints CliffWalkingEnv policy with arrows. Hard-coded. \"\"\"\n",
    "    n_rows, n_cols = env._cliff.shape\n",
    "\n",
    "    actions = '^>v<'\n",
    "\n",
    "    for yi in range(n_rows):\n",
    "        for xi in range(n_cols):\n",
    "            if env._cliff[yi, xi]:\n",
    "                print(\" C \", end='')\n",
    "            elif (yi * n_cols + xi) == env.start_state_index:\n",
    "                print(\" X \", end='')\n",
    "            elif (yi * n_cols + xi) == n_rows * n_cols - 1:\n",
    "                print(\" T \", end='')\n",
    "            else:\n",
    "                print(\" %s \" %\n",
    "                      actions[agent.get_action(yi * n_cols + xi)], end='')\n",
    "        print()"
   ]
  },
  {
   "cell_type": "code",
   "execution_count": 74,
   "metadata": {},
   "outputs": [
    {
     "name": "stdout",
     "output_type": "stream",
     "text": [
      " >  >  >  >  >  >  >  >  >  >  >  v \n",
      " ^  >  >  >  ^  ^  >  >  >  ^  >  v \n",
      " ^  ^  ^  ^  ^  ^  ^  ^  ^  ^  >  v \n",
      " X  C  C  C  C  C  C  C  C  C  C  T \n"
     ]
    }
   ],
   "source": [
    "exp_sarsa_agent.epsilon = 0\n",
    "draw_policy(env,exp_sarsa_agent)"
   ]
  },
  {
   "cell_type": "code",
   "execution_count": 76,
   "metadata": {},
   "outputs": [
    {
     "name": "stdout",
     "output_type": "stream",
     "text": [
      " >  ^  <  >  ^  ^  >  v  ^  >  ^  > \n",
      " <  <  >  ^  <  >  ^  >  <  ^  >  ^ \n",
      " <  ^  ^  <  ^  ^  >  ^  >  >  >  v \n",
      " X  C  C  C  C  C  C  C  C  C  C  T \n"
     ]
    }
   ],
   "source": [
    "sarsa_agent.epsilon = 0\n",
    "draw_policy(env,sarsa_agent)"
   ]
  },
  {
   "cell_type": "code",
   "execution_count": 75,
   "metadata": {},
   "outputs": [
    {
     "name": "stdout",
     "output_type": "stream",
     "text": [
      " >  >  >  >  >  >  >  >  >  >  >  v \n",
      " ^  ^  ^  ^  ^  ^  ^  >  >  ^  >  v \n",
      " ^  ^  ^  ^  ^  ^  ^  >  ^  >  >  v \n",
      " X  C  C  C  C  C  C  C  C  C  C  T \n"
     ]
    }
   ],
   "source": [
    "lambda_sarsa_agent.epsilon = 0\n",
    "draw_policy(env,lambda_sarsa_agent)"
   ]
  },
  {
   "cell_type": "code",
   "execution_count": null,
   "metadata": {},
   "outputs": [],
   "source": []
  }
 ],
 "metadata": {
  "kernelspec": {
   "display_name": "Python 3",
   "language": "python",
   "name": "python3"
  },
  "language_info": {
   "codemirror_mode": {
    "name": "ipython",
    "version": 3
   },
   "file_extension": ".py",
   "mimetype": "text/x-python",
   "name": "python",
   "nbconvert_exporter": "python",
   "pygments_lexer": "ipython3",
   "version": "3.7.6"
  }
 },
 "nbformat": 4,
 "nbformat_minor": 4
}
